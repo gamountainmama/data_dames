{
 "cells": [
  {
   "cell_type": "code",
   "execution_count": 1,
   "id": "0a95001d",
   "metadata": {},
   "outputs": [],
   "source": [
    "# Import our dependencies\n",
    "from sklearn.model_selection import train_test_split\n",
    "from sklearn.preprocessing import StandardScaler\n",
    "from sklearn.ensemble import RandomForestClassifier\n",
    "from sklearn.metrics import confusion_matrix, accuracy_score, classification_report\n",
    "%matplotlib inline\n",
    "import pandas as pd\n",
    "import tensorflow as tf\n"
   ]
  },
  {
   "cell_type": "code",
   "execution_count": 2,
   "id": "d8072b2b",
   "metadata": {},
   "outputs": [],
   "source": [
    "# Import the csv\n",
    "ed_df = pd.read_csv(\"GeorgiaData_UnionCounty/ga_data_overall_success.csv\")"
   ]
  },
  {
   "cell_type": "code",
   "execution_count": 3,
   "id": "6bb96537",
   "metadata": {},
   "outputs": [
    {
     "name": "stdout",
     "output_type": "stream",
     "text": [
      "(120, 17)\n"
     ]
    }
   ],
   "source": [
    "# find out the size of our data\n",
    "print(ed_df.shape)"
   ]
  },
  {
   "cell_type": "code",
   "execution_count": 4,
   "id": "caefd6e3",
   "metadata": {},
   "outputs": [
    {
     "data": {
      "text/html": [
       "<div>\n",
       "<style scoped>\n",
       "    .dataframe tbody tr th:only-of-type {\n",
       "        vertical-align: middle;\n",
       "    }\n",
       "\n",
       "    .dataframe tbody tr th {\n",
       "        vertical-align: top;\n",
       "    }\n",
       "\n",
       "    .dataframe thead th {\n",
       "        text-align: right;\n",
       "    }\n",
       "</style>\n",
       "<table border=\"1\" class=\"dataframe\">\n",
       "  <thead>\n",
       "    <tr style=\"text-align: right;\">\n",
       "      <th></th>\n",
       "      <th>Gender</th>\n",
       "      <th>Ethnicity</th>\n",
       "      <th>ELL</th>\n",
       "      <th>SWD</th>\n",
       "      <th>ED</th>\n",
       "      <th>SST</th>\n",
       "      <th>Gifted</th>\n",
       "      <th>Absences</th>\n",
       "      <th>Lexile</th>\n",
       "      <th>MATH 21 Scale Score</th>\n",
       "      <th>ELA 21 Scale Score</th>\n",
       "      <th>ELA 22 Pass</th>\n",
       "      <th>MATH 22 Pass</th>\n",
       "      <th>SCIE 22 Pass</th>\n",
       "      <th>SOCI 22 Pass</th>\n",
       "      <th>Subjects Passed</th>\n",
       "      <th>Overall Pass</th>\n",
       "    </tr>\n",
       "  </thead>\n",
       "  <tbody>\n",
       "    <tr>\n",
       "      <th>0</th>\n",
       "      <td>FEMALE</td>\n",
       "      <td>WHITE, NOT OF HISPANIC ORIGIN</td>\n",
       "      <td>N</td>\n",
       "      <td>N</td>\n",
       "      <td>Y</td>\n",
       "      <td>Y</td>\n",
       "      <td>N</td>\n",
       "      <td>2</td>\n",
       "      <td>1155</td>\n",
       "      <td>492</td>\n",
       "      <td>494</td>\n",
       "      <td>1</td>\n",
       "      <td>1</td>\n",
       "      <td>0</td>\n",
       "      <td>1</td>\n",
       "      <td>3</td>\n",
       "      <td>0</td>\n",
       "    </tr>\n",
       "    <tr>\n",
       "      <th>1</th>\n",
       "      <td>MALE</td>\n",
       "      <td>WHITE, NOT OF HISPANIC ORIGIN</td>\n",
       "      <td>N</td>\n",
       "      <td>N</td>\n",
       "      <td>Y</td>\n",
       "      <td>N</td>\n",
       "      <td>N</td>\n",
       "      <td>40</td>\n",
       "      <td>885</td>\n",
       "      <td>494</td>\n",
       "      <td>443</td>\n",
       "      <td>0</td>\n",
       "      <td>1</td>\n",
       "      <td>1</td>\n",
       "      <td>1</td>\n",
       "      <td>3</td>\n",
       "      <td>0</td>\n",
       "    </tr>\n",
       "    <tr>\n",
       "      <th>2</th>\n",
       "      <td>FEMALE</td>\n",
       "      <td>WHITE, NOT OF HISPANIC ORIGIN</td>\n",
       "      <td>N</td>\n",
       "      <td>N</td>\n",
       "      <td>Y</td>\n",
       "      <td>N</td>\n",
       "      <td>N</td>\n",
       "      <td>28</td>\n",
       "      <td>1205</td>\n",
       "      <td>486</td>\n",
       "      <td>507</td>\n",
       "      <td>1</td>\n",
       "      <td>1</td>\n",
       "      <td>1</td>\n",
       "      <td>1</td>\n",
       "      <td>4</td>\n",
       "      <td>1</td>\n",
       "    </tr>\n",
       "    <tr>\n",
       "      <th>3</th>\n",
       "      <td>MALE</td>\n",
       "      <td>WHITE, NOT OF HISPANIC ORIGIN</td>\n",
       "      <td>N</td>\n",
       "      <td>Y</td>\n",
       "      <td>N</td>\n",
       "      <td>N</td>\n",
       "      <td>N</td>\n",
       "      <td>1</td>\n",
       "      <td>955</td>\n",
       "      <td>472</td>\n",
       "      <td>455</td>\n",
       "      <td>0</td>\n",
       "      <td>0</td>\n",
       "      <td>0</td>\n",
       "      <td>0</td>\n",
       "      <td>0</td>\n",
       "      <td>0</td>\n",
       "    </tr>\n",
       "    <tr>\n",
       "      <th>4</th>\n",
       "      <td>FEMALE</td>\n",
       "      <td>WHITE, NOT OF HISPANIC ORIGIN</td>\n",
       "      <td>N</td>\n",
       "      <td>N</td>\n",
       "      <td>Y</td>\n",
       "      <td>N</td>\n",
       "      <td>N</td>\n",
       "      <td>10</td>\n",
       "      <td>1305</td>\n",
       "      <td>494</td>\n",
       "      <td>525</td>\n",
       "      <td>1</td>\n",
       "      <td>1</td>\n",
       "      <td>1</td>\n",
       "      <td>0</td>\n",
       "      <td>3</td>\n",
       "      <td>0</td>\n",
       "    </tr>\n",
       "  </tbody>\n",
       "</table>\n",
       "</div>"
      ],
      "text/plain": [
       "   Gender                      Ethnicity ELL SWD ED SST Gifted  Absences  \\\n",
       "0  FEMALE  WHITE, NOT OF HISPANIC ORIGIN   N   N  Y   Y      N         2   \n",
       "1    MALE  WHITE, NOT OF HISPANIC ORIGIN   N   N  Y   N      N        40   \n",
       "2  FEMALE  WHITE, NOT OF HISPANIC ORIGIN   N   N  Y   N      N        28   \n",
       "3    MALE  WHITE, NOT OF HISPANIC ORIGIN   N   Y  N   N      N         1   \n",
       "4  FEMALE  WHITE, NOT OF HISPANIC ORIGIN   N   N  Y   N      N        10   \n",
       "\n",
       "   Lexile  MATH 21 Scale Score  ELA 21 Scale Score  ELA 22 Pass  MATH 22 Pass  \\\n",
       "0    1155                  492                 494            1             1   \n",
       "1     885                  494                 443            0             1   \n",
       "2    1205                  486                 507            1             1   \n",
       "3     955                  472                 455            0             0   \n",
       "4    1305                  494                 525            1             1   \n",
       "\n",
       "   SCIE 22 Pass  SOCI 22 Pass  Subjects Passed  Overall Pass  \n",
       "0             0             1                3             0  \n",
       "1             1             1                3             0  \n",
       "2             1             1                4             1  \n",
       "3             0             0                0             0  \n",
       "4             1             0                3             0  "
      ]
     },
     "execution_count": 4,
     "metadata": {},
     "output_type": "execute_result"
    }
   ],
   "source": [
    "# get a sample of the df\n",
    "ed_df.head()"
   ]
  },
  {
   "cell_type": "code",
   "execution_count": 5,
   "id": "ddf84caa",
   "metadata": {},
   "outputs": [
    {
     "data": {
      "text/html": [
       "<div>\n",
       "<style scoped>\n",
       "    .dataframe tbody tr th:only-of-type {\n",
       "        vertical-align: middle;\n",
       "    }\n",
       "\n",
       "    .dataframe tbody tr th {\n",
       "        vertical-align: top;\n",
       "    }\n",
       "\n",
       "    .dataframe thead th {\n",
       "        text-align: right;\n",
       "    }\n",
       "</style>\n",
       "<table border=\"1\" class=\"dataframe\">\n",
       "  <thead>\n",
       "    <tr style=\"text-align: right;\">\n",
       "      <th></th>\n",
       "      <th>Gender</th>\n",
       "      <th>Ethnicity</th>\n",
       "      <th>ELL</th>\n",
       "      <th>SWD</th>\n",
       "      <th>ED</th>\n",
       "      <th>SST</th>\n",
       "      <th>Gifted</th>\n",
       "      <th>Absences</th>\n",
       "      <th>Lexile</th>\n",
       "      <th>MATH 21 Scale Score</th>\n",
       "      <th>ELA 21 Scale Score</th>\n",
       "      <th>ELA 22 Pass</th>\n",
       "      <th>MATH 22 Pass</th>\n",
       "      <th>SCIE 22 Pass</th>\n",
       "      <th>SOCI 22 Pass</th>\n",
       "      <th>Subjects Passed</th>\n",
       "      <th>Overall Pass</th>\n",
       "      <th>gender_num</th>\n",
       "    </tr>\n",
       "  </thead>\n",
       "  <tbody>\n",
       "    <tr>\n",
       "      <th>0</th>\n",
       "      <td>FEMALE</td>\n",
       "      <td>WHITE, NOT OF HISPANIC ORIGIN</td>\n",
       "      <td>N</td>\n",
       "      <td>N</td>\n",
       "      <td>Y</td>\n",
       "      <td>Y</td>\n",
       "      <td>N</td>\n",
       "      <td>2</td>\n",
       "      <td>1155</td>\n",
       "      <td>492</td>\n",
       "      <td>494</td>\n",
       "      <td>1</td>\n",
       "      <td>1</td>\n",
       "      <td>0</td>\n",
       "      <td>1</td>\n",
       "      <td>3</td>\n",
       "      <td>0</td>\n",
       "      <td>2</td>\n",
       "    </tr>\n",
       "    <tr>\n",
       "      <th>1</th>\n",
       "      <td>MALE</td>\n",
       "      <td>WHITE, NOT OF HISPANIC ORIGIN</td>\n",
       "      <td>N</td>\n",
       "      <td>N</td>\n",
       "      <td>Y</td>\n",
       "      <td>N</td>\n",
       "      <td>N</td>\n",
       "      <td>40</td>\n",
       "      <td>885</td>\n",
       "      <td>494</td>\n",
       "      <td>443</td>\n",
       "      <td>0</td>\n",
       "      <td>1</td>\n",
       "      <td>1</td>\n",
       "      <td>1</td>\n",
       "      <td>3</td>\n",
       "      <td>0</td>\n",
       "      <td>1</td>\n",
       "    </tr>\n",
       "    <tr>\n",
       "      <th>2</th>\n",
       "      <td>FEMALE</td>\n",
       "      <td>WHITE, NOT OF HISPANIC ORIGIN</td>\n",
       "      <td>N</td>\n",
       "      <td>N</td>\n",
       "      <td>Y</td>\n",
       "      <td>N</td>\n",
       "      <td>N</td>\n",
       "      <td>28</td>\n",
       "      <td>1205</td>\n",
       "      <td>486</td>\n",
       "      <td>507</td>\n",
       "      <td>1</td>\n",
       "      <td>1</td>\n",
       "      <td>1</td>\n",
       "      <td>1</td>\n",
       "      <td>4</td>\n",
       "      <td>1</td>\n",
       "      <td>2</td>\n",
       "    </tr>\n",
       "    <tr>\n",
       "      <th>3</th>\n",
       "      <td>MALE</td>\n",
       "      <td>WHITE, NOT OF HISPANIC ORIGIN</td>\n",
       "      <td>N</td>\n",
       "      <td>Y</td>\n",
       "      <td>N</td>\n",
       "      <td>N</td>\n",
       "      <td>N</td>\n",
       "      <td>1</td>\n",
       "      <td>955</td>\n",
       "      <td>472</td>\n",
       "      <td>455</td>\n",
       "      <td>0</td>\n",
       "      <td>0</td>\n",
       "      <td>0</td>\n",
       "      <td>0</td>\n",
       "      <td>0</td>\n",
       "      <td>0</td>\n",
       "      <td>1</td>\n",
       "    </tr>\n",
       "    <tr>\n",
       "      <th>4</th>\n",
       "      <td>FEMALE</td>\n",
       "      <td>WHITE, NOT OF HISPANIC ORIGIN</td>\n",
       "      <td>N</td>\n",
       "      <td>N</td>\n",
       "      <td>Y</td>\n",
       "      <td>N</td>\n",
       "      <td>N</td>\n",
       "      <td>10</td>\n",
       "      <td>1305</td>\n",
       "      <td>494</td>\n",
       "      <td>525</td>\n",
       "      <td>1</td>\n",
       "      <td>1</td>\n",
       "      <td>1</td>\n",
       "      <td>0</td>\n",
       "      <td>3</td>\n",
       "      <td>0</td>\n",
       "      <td>2</td>\n",
       "    </tr>\n",
       "  </tbody>\n",
       "</table>\n",
       "</div>"
      ],
      "text/plain": [
       "   Gender                      Ethnicity ELL SWD ED SST Gifted  Absences  \\\n",
       "0  FEMALE  WHITE, NOT OF HISPANIC ORIGIN   N   N  Y   Y      N         2   \n",
       "1    MALE  WHITE, NOT OF HISPANIC ORIGIN   N   N  Y   N      N        40   \n",
       "2  FEMALE  WHITE, NOT OF HISPANIC ORIGIN   N   N  Y   N      N        28   \n",
       "3    MALE  WHITE, NOT OF HISPANIC ORIGIN   N   Y  N   N      N         1   \n",
       "4  FEMALE  WHITE, NOT OF HISPANIC ORIGIN   N   N  Y   N      N        10   \n",
       "\n",
       "   Lexile  MATH 21 Scale Score  ELA 21 Scale Score  ELA 22 Pass  MATH 22 Pass  \\\n",
       "0    1155                  492                 494            1             1   \n",
       "1     885                  494                 443            0             1   \n",
       "2    1205                  486                 507            1             1   \n",
       "3     955                  472                 455            0             0   \n",
       "4    1305                  494                 525            1             1   \n",
       "\n",
       "   SCIE 22 Pass  SOCI 22 Pass  Subjects Passed  Overall Pass  gender_num  \n",
       "0             0             1                3             0           2  \n",
       "1             1             1                3             0           1  \n",
       "2             1             1                4             1           2  \n",
       "3             0             0                0             0           1  \n",
       "4             1             0                3             0           2  "
      ]
     },
     "execution_count": 5,
     "metadata": {},
     "output_type": "execute_result"
    }
   ],
   "source": [
    "def gender_to_numeric(x):\n",
    "    if x=='FEMALE': return 2\n",
    "    if x=='MALE':   return 1\n",
    "\n",
    "ed_df['gender_num'] = ed_df['Gender'].apply(gender_to_numeric)\n",
    "ed_df.head()"
   ]
  },
  {
   "cell_type": "code",
   "execution_count": 6,
   "id": "05b2b665",
   "metadata": {},
   "outputs": [
    {
     "name": "stdout",
     "output_type": "stream",
     "text": [
      "WHITE, NOT OF HISPANIC ORIGIN       107\n",
      "HISPANIC                              9\n",
      "Two Or More Races                     2\n",
      "AMERICAN INDIAN OR ALASKA NATIVE      1\n",
      "ASIAN                                 1\n",
      "Name: Ethnicity, dtype: int64\n"
     ]
    }
   ],
   "source": [
    "ethnicity_list = ed_df['Ethnicity'].value_counts()\n",
    "print(ethnicity_list)"
   ]
  },
  {
   "cell_type": "code",
   "execution_count": 7,
   "id": "f5155130",
   "metadata": {},
   "outputs": [],
   "source": [
    "def ethnicity_to_numeric(x):\n",
    "    if x=='AMERICAN INDIAN OR ALASKA NATIVE': return 5\n",
    "    if x=='ASIAN': return 4\n",
    "    if x=='Two Or More Races': return 3\n",
    "    if x=='HISPANIC': return 2\n",
    "    if x=='WHITE, NOT OF HISPANIC ORIGIN':   return 1\n",
    "\n",
    "ed_df['ethnicity_num'] = ed_df['Ethnicity'].apply(ethnicity_to_numeric)"
   ]
  },
  {
   "cell_type": "code",
   "execution_count": 8,
   "id": "52ae673e",
   "metadata": {},
   "outputs": [],
   "source": [
    "def SWD_to_numeric(x):\n",
    "    if x=='Y': return 2\n",
    "    if x=='N':   return 1\n",
    "\n",
    "ed_df['SWD_num'] = ed_df['SWD'].apply(SWD_to_numeric)"
   ]
  },
  {
   "cell_type": "code",
   "execution_count": 9,
   "id": "c913a06f",
   "metadata": {},
   "outputs": [],
   "source": [
    "def ELL_to_numeric(x):\n",
    "    if x=='Y': return 2\n",
    "    if x=='N':   return 1\n",
    "\n",
    "ed_df['ELL_num'] = ed_df['ELL'].apply(ELL_to_numeric)"
   ]
  },
  {
   "cell_type": "code",
   "execution_count": 10,
   "id": "c54abb65",
   "metadata": {},
   "outputs": [],
   "source": [
    "def ED_to_numeric(x):\n",
    "    if x=='Y': return 2\n",
    "    if x=='N':   return 1\n",
    "\n",
    "ed_df['ED_num'] = ed_df['ED'].apply(ED_to_numeric)"
   ]
  },
  {
   "cell_type": "code",
   "execution_count": 11,
   "id": "c523edd0",
   "metadata": {},
   "outputs": [],
   "source": [
    "def Gifted_to_numeric(x):\n",
    "    if x=='Y': return 2\n",
    "    if x=='N':   return 1\n",
    "\n",
    "ed_df['Gifted_num'] = ed_df['Gifted'].apply(Gifted_to_numeric)"
   ]
  },
  {
   "cell_type": "code",
   "execution_count": 12,
   "id": "bec59ef5",
   "metadata": {},
   "outputs": [],
   "source": [
    "def SST_to_numeric(x):\n",
    "    if x=='Y': return 2\n",
    "    if x=='N':   return 1\n",
    "\n",
    "ed_df['SST_num'] = ed_df['SST'].apply(SST_to_numeric)"
   ]
  },
  {
   "cell_type": "code",
   "execution_count": 13,
   "id": "03dcd8f2",
   "metadata": {},
   "outputs": [],
   "source": [
    "ed_num_df=ed_df.drop(['Gender','Ethnicity','SWD','ELL','ED','Gifted','SST','ELA 22 Pass','MATH 22 Pass','SCIE 22 Pass','SOCI 22 Pass','Subjects Passed'], axis=1)\n"
   ]
  },
  {
   "cell_type": "code",
   "execution_count": 14,
   "id": "a53b4adc",
   "metadata": {},
   "outputs": [
    {
     "data": {
      "text/html": [
       "<div>\n",
       "<style scoped>\n",
       "    .dataframe tbody tr th:only-of-type {\n",
       "        vertical-align: middle;\n",
       "    }\n",
       "\n",
       "    .dataframe tbody tr th {\n",
       "        vertical-align: top;\n",
       "    }\n",
       "\n",
       "    .dataframe thead th {\n",
       "        text-align: right;\n",
       "    }\n",
       "</style>\n",
       "<table border=\"1\" class=\"dataframe\">\n",
       "  <thead>\n",
       "    <tr style=\"text-align: right;\">\n",
       "      <th></th>\n",
       "      <th>Absences</th>\n",
       "      <th>Lexile</th>\n",
       "      <th>MATH 21 Scale Score</th>\n",
       "      <th>ELA 21 Scale Score</th>\n",
       "      <th>gender_num</th>\n",
       "      <th>ethnicity_num</th>\n",
       "      <th>SWD_num</th>\n",
       "      <th>ELL_num</th>\n",
       "      <th>ED_num</th>\n",
       "      <th>Gifted_num</th>\n",
       "      <th>SST_num</th>\n",
       "    </tr>\n",
       "  </thead>\n",
       "  <tbody>\n",
       "    <tr>\n",
       "      <th>0</th>\n",
       "      <td>2</td>\n",
       "      <td>1155</td>\n",
       "      <td>492</td>\n",
       "      <td>494</td>\n",
       "      <td>2</td>\n",
       "      <td>1</td>\n",
       "      <td>1</td>\n",
       "      <td>1</td>\n",
       "      <td>2</td>\n",
       "      <td>1</td>\n",
       "      <td>2</td>\n",
       "    </tr>\n",
       "    <tr>\n",
       "      <th>1</th>\n",
       "      <td>40</td>\n",
       "      <td>885</td>\n",
       "      <td>494</td>\n",
       "      <td>443</td>\n",
       "      <td>1</td>\n",
       "      <td>1</td>\n",
       "      <td>1</td>\n",
       "      <td>1</td>\n",
       "      <td>2</td>\n",
       "      <td>1</td>\n",
       "      <td>1</td>\n",
       "    </tr>\n",
       "    <tr>\n",
       "      <th>2</th>\n",
       "      <td>28</td>\n",
       "      <td>1205</td>\n",
       "      <td>486</td>\n",
       "      <td>507</td>\n",
       "      <td>2</td>\n",
       "      <td>1</td>\n",
       "      <td>1</td>\n",
       "      <td>1</td>\n",
       "      <td>2</td>\n",
       "      <td>1</td>\n",
       "      <td>1</td>\n",
       "    </tr>\n",
       "    <tr>\n",
       "      <th>3</th>\n",
       "      <td>1</td>\n",
       "      <td>955</td>\n",
       "      <td>472</td>\n",
       "      <td>455</td>\n",
       "      <td>1</td>\n",
       "      <td>1</td>\n",
       "      <td>2</td>\n",
       "      <td>1</td>\n",
       "      <td>1</td>\n",
       "      <td>1</td>\n",
       "      <td>1</td>\n",
       "    </tr>\n",
       "    <tr>\n",
       "      <th>4</th>\n",
       "      <td>10</td>\n",
       "      <td>1305</td>\n",
       "      <td>494</td>\n",
       "      <td>525</td>\n",
       "      <td>2</td>\n",
       "      <td>1</td>\n",
       "      <td>1</td>\n",
       "      <td>1</td>\n",
       "      <td>2</td>\n",
       "      <td>1</td>\n",
       "      <td>1</td>\n",
       "    </tr>\n",
       "  </tbody>\n",
       "</table>\n",
       "</div>"
      ],
      "text/plain": [
       "   Absences  Lexile  MATH 21 Scale Score  ELA 21 Scale Score  gender_num  \\\n",
       "0         2    1155                  492                 494           2   \n",
       "1        40     885                  494                 443           1   \n",
       "2        28    1205                  486                 507           2   \n",
       "3         1     955                  472                 455           1   \n",
       "4        10    1305                  494                 525           2   \n",
       "\n",
       "   ethnicity_num  SWD_num  ELL_num  ED_num  Gifted_num  SST_num  \n",
       "0              1        1        1       2           1        2  \n",
       "1              1        1        1       2           1        1  \n",
       "2              1        1        1       2           1        1  \n",
       "3              1        2        1       1           1        1  \n",
       "4              1        1        1       2           1        1  "
      ]
     },
     "execution_count": 14,
     "metadata": {},
     "output_type": "execute_result"
    }
   ],
   "source": [
    "# Define the sets\n",
    "X = ed_num_df.copy()\n",
    "X.drop(\"Overall Pass\", axis=1, inplace=True)\n",
    "X.head()"
   ]
  },
  {
   "cell_type": "code",
   "execution_count": 15,
   "id": "16caef6a",
   "metadata": {},
   "outputs": [],
   "source": [
    "# ethnicity_list = ed_num_df['ethnicity_num'].tolist()\n",
    "# print(ethnicity_list)"
   ]
  },
  {
   "cell_type": "code",
   "execution_count": 16,
   "id": "dcee982a",
   "metadata": {},
   "outputs": [
    {
     "data": {
      "text/plain": [
       "array([0, 0, 1, 0, 0], dtype=int64)"
      ]
     },
     "execution_count": 16,
     "metadata": {},
     "output_type": "execute_result"
    }
   ],
   "source": [
    "y = ed_num_df[\"Overall Pass\"].ravel()\n",
    "y[:5]"
   ]
  },
  {
   "cell_type": "code",
   "execution_count": 17,
   "id": "ad9ea02b",
   "metadata": {},
   "outputs": [],
   "source": [
    "X_train, X_test, y_train, y_test = train_test_split(X, y, random_state=42)"
   ]
  },
  {
   "cell_type": "code",
   "execution_count": 18,
   "id": "647ce863",
   "metadata": {},
   "outputs": [],
   "source": [
    "scaler = StandardScaler()"
   ]
  },
  {
   "cell_type": "code",
   "execution_count": 19,
   "id": "e145e345",
   "metadata": {},
   "outputs": [],
   "source": [
    "X_scaler = scaler.fit(X_train)"
   ]
  },
  {
   "cell_type": "code",
   "execution_count": 20,
   "id": "c0a7a07b",
   "metadata": {},
   "outputs": [],
   "source": [
    "X_train_scaled = X_scaler.transform(X_train)\n",
    "X_test_scaled = X_scaler.transform(X_test)"
   ]
  },
  {
   "cell_type": "code",
   "execution_count": 21,
   "id": "0c20d4e4",
   "metadata": {},
   "outputs": [],
   "source": [
    "rf_model = RandomForestClassifier(n_estimators=500, random_state=42)"
   ]
  },
  {
   "cell_type": "code",
   "execution_count": 22,
   "id": "45b3c826",
   "metadata": {},
   "outputs": [],
   "source": [
    "rf_model = rf_model.fit(X_train_scaled, y_train)"
   ]
  },
  {
   "cell_type": "code",
   "execution_count": 23,
   "id": "07a7d2cd",
   "metadata": {},
   "outputs": [],
   "source": [
    "predictions = rf_model.predict(X_test_scaled)"
   ]
  },
  {
   "cell_type": "code",
   "execution_count": 24,
   "id": "63b0817e",
   "metadata": {},
   "outputs": [],
   "source": [
    "cm = confusion_matrix(y_test, predictions)\n",
    "cm_df = pd.DataFrame(\n",
    "    cm, index=[\"Incomplete\", \"Full Pass\"], columns=[\"Predicted 0\", \"Predicted 1\"]\n",
    ")"
   ]
  },
  {
   "cell_type": "code",
   "execution_count": 25,
   "id": "dd655467",
   "metadata": {},
   "outputs": [],
   "source": [
    "acc_score = accuracy_score(y_test, predictions)"
   ]
  },
  {
   "cell_type": "code",
   "execution_count": 26,
   "id": "5b4d7780",
   "metadata": {},
   "outputs": [
    {
     "name": "stdout",
     "output_type": "stream",
     "text": [
      "Confusion Matrix\n"
     ]
    },
    {
     "data": {
      "text/html": [
       "<div>\n",
       "<style scoped>\n",
       "    .dataframe tbody tr th:only-of-type {\n",
       "        vertical-align: middle;\n",
       "    }\n",
       "\n",
       "    .dataframe tbody tr th {\n",
       "        vertical-align: top;\n",
       "    }\n",
       "\n",
       "    .dataframe thead th {\n",
       "        text-align: right;\n",
       "    }\n",
       "</style>\n",
       "<table border=\"1\" class=\"dataframe\">\n",
       "  <thead>\n",
       "    <tr style=\"text-align: right;\">\n",
       "      <th></th>\n",
       "      <th>Predicted 0</th>\n",
       "      <th>Predicted 1</th>\n",
       "    </tr>\n",
       "  </thead>\n",
       "  <tbody>\n",
       "    <tr>\n",
       "      <th>Incomplete</th>\n",
       "      <td>9</td>\n",
       "      <td>1</td>\n",
       "    </tr>\n",
       "    <tr>\n",
       "      <th>Full Pass</th>\n",
       "      <td>5</td>\n",
       "      <td>15</td>\n",
       "    </tr>\n",
       "  </tbody>\n",
       "</table>\n",
       "</div>"
      ],
      "text/plain": [
       "            Predicted 0  Predicted 1\n",
       "Incomplete            9            1\n",
       "Full Pass             5           15"
      ]
     },
     "metadata": {},
     "output_type": "display_data"
    },
    {
     "name": "stdout",
     "output_type": "stream",
     "text": [
      "Accuracy Score : 0.8\n",
      "Classification Report\n",
      "              precision    recall  f1-score   support\n",
      "\n",
      "           0       0.64      0.90      0.75        10\n",
      "           1       0.94      0.75      0.83        20\n",
      "\n",
      "    accuracy                           0.80        30\n",
      "   macro avg       0.79      0.82      0.79        30\n",
      "weighted avg       0.84      0.80      0.81        30\n",
      "\n"
     ]
    }
   ],
   "source": [
    "# Displaying results\n",
    "print(\"Confusion Matrix\")\n",
    "display(cm_df)\n",
    "print(f\"Accuracy Score : {acc_score}\")\n",
    "print(\"Classification Report\")\n",
    "print(classification_report(y_test, predictions))"
   ]
  },
  {
   "cell_type": "code",
   "execution_count": 27,
   "id": "a7881b94",
   "metadata": {},
   "outputs": [
    {
     "data": {
      "text/plain": [
       "[(0.28439279303463555, 'ELA 21 Scale Score'),\n",
       " (0.2832352153856845, 'Lexile'),\n",
       " (0.21355110444330155, 'MATH 21 Scale Score'),\n",
       " (0.0929991840383519, 'Absences'),\n",
       " (0.04601283956143001, 'SST_num'),\n",
       " (0.020139995819267426, 'Gifted_num'),\n",
       " (0.0179718483527238, 'gender_num'),\n",
       " (0.017420833523603994, 'SWD_num'),\n",
       " (0.015664830117569837, 'ED_num'),\n",
       " (0.004584003071072439, 'ethnicity_num'),\n",
       " (0.004027352652359078, 'ELL_num')]"
      ]
     },
     "execution_count": 27,
     "metadata": {},
     "output_type": "execute_result"
    }
   ],
   "source": [
    "# Random Forests in sklearn will automatically calculate feature importance\n",
    "importances = rf_model.feature_importances_\n",
    "# We can sort the features by their importance\n",
    "sorted(zip(rf_model.feature_importances_, X.columns), reverse=True)"
   ]
  },
  {
   "cell_type": "code",
   "execution_count": 31,
   "id": "3a553c23",
   "metadata": {},
   "outputs": [
    {
     "data": {
      "text/plain": [
       "<AxesSubplot:title={'center':'Student Demographics by importance'}, ylabel='1'>"
      ]
     },
     "execution_count": 31,
     "metadata": {},
     "output_type": "execute_result"
    },
    {
     "data": {
      "image/png": "[encoded data removed]",
      "text/plain": [
       "<Figure size 640x480 with 1 Axes>"
      ]
     },
     "metadata": {},
     "output_type": "display_data"
    }
   ],
   "source": [
    "# Visualize the features by importance\n",
    "importances_df = pd.DataFrame(sorted(zip(rf_model.feature_importances_, X.columns), reverse=True))\n",
    "importances_df.set_index(importances_df[1], inplace=True)\n",
    "importances_df.drop(columns=1, inplace=True)\n",
    "importances_df.rename(columns={0: 'Feature Importances'}, inplace=True)\n",
    "importances_sorted = importances_df.sort_values(by='Feature Importances')\n",
    "importances_sorted.plot(kind='barh', color='red', title= 'Student Demographics by Importance', legend=False)"
   ]
  },
  {
   "cell_type": "code",
   "execution_count": null,
   "id": "5334860b",
   "metadata": {},
   "outputs": [],
   "source": []
  },
  {
   "cell_type": "code",
   "execution_count": null,
   "id": "3599509b",
   "metadata": {},
   "outputs": [],
   "source": []
  }
 ],
 "metadata": {
  "kernelspec": {
   "display_name": "Python 3 (ipykernel)",
   "language": "python",
   "name": "python3"
  },
  "language_info": {
   "codemirror_mode": {
    "name": "ipython",
    "version": 3
   },
   "file_extension": ".py",
   "mimetype": "text/x-python",
   "name": "python",
   "nbconvert_exporter": "python",
   "pygments_lexer": "ipython3",
   "version": "3.9.13"
  }
 },
 "nbformat": 4,
 "nbformat_minor": 5
}
