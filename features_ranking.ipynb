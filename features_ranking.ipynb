{
 "cells": [
  {
   "cell_type": "code",
   "execution_count": 1,
   "id": "0a95001d",
   "metadata": {},
   "outputs": [],
   "source": [
    "# Import our dependencies\n",
    "from sklearn.model_selection import train_test_split\n",
    "from sklearn.preprocessing import StandardScaler\n",
    "from sklearn.ensemble import RandomForestClassifier\n",
    "from sklearn.metrics import confusion_matrix, accuracy_score, classification_report\n",
    "%matplotlib inline\n",
    "import pandas as pd\n",
    "import tensorflow as tf\n"
   ]
  },
  {
   "cell_type": "code",
   "execution_count": 2,
   "id": "d8072b2b",
   "metadata": {},
   "outputs": [],
   "source": [
    "# Import the csv\n",
    "ed_df = pd.read_csv(\"GeorgiaData_UnionCounty/ga_data_overall_success.csv\")"
   ]
  },
  {
   "cell_type": "code",
   "execution_count": 3,
   "id": "6bb96537",
   "metadata": {},
   "outputs": [
    {
     "name": "stdout",
     "output_type": "stream",
     "text": [
      "(120, 17)\n"
     ]
    }
   ],
   "source": [
    "# find out the size of our data\n",
    "print(ed_df.shape)"
   ]
  },
  {
   "cell_type": "code",
   "execution_count": 4,
   "id": "caefd6e3",
   "metadata": {},
   "outputs": [
    {
     "data": {
      "text/html": [
       "<div>\n",
       "<style scoped>\n",
       "    .dataframe tbody tr th:only-of-type {\n",
       "        vertical-align: middle;\n",
       "    }\n",
       "\n",
       "    .dataframe tbody tr th {\n",
       "        vertical-align: top;\n",
       "    }\n",
       "\n",
       "    .dataframe thead th {\n",
       "        text-align: right;\n",
       "    }\n",
       "</style>\n",
       "<table border=\"1\" class=\"dataframe\">\n",
       "  <thead>\n",
       "    <tr style=\"text-align: right;\">\n",
       "      <th></th>\n",
       "      <th>Gender</th>\n",
       "      <th>Ethnicity</th>\n",
       "      <th>ELL</th>\n",
       "      <th>SWD</th>\n",
       "      <th>ED</th>\n",
       "      <th>SST</th>\n",
       "      <th>Gifted</th>\n",
       "      <th>Absences</th>\n",
       "      <th>Lexile</th>\n",
       "      <th>MATH 21 Scale Score</th>\n",
       "      <th>ELA 21 Scale Score</th>\n",
       "      <th>ELA 22 Pass</th>\n",
       "      <th>MATH 22 Pass</th>\n",
       "      <th>SCIE 22 Pass</th>\n",
       "      <th>SOCI 22 Pass</th>\n",
       "      <th>Subjects Passed</th>\n",
       "      <th>Overall Pass</th>\n",
       "    </tr>\n",
       "  </thead>\n",
       "  <tbody>\n",
       "    <tr>\n",
       "      <th>0</th>\n",
       "      <td>FEMALE</td>\n",
       "      <td>WHITE, NOT OF HISPANIC ORIGIN</td>\n",
       "      <td>N</td>\n",
       "      <td>N</td>\n",
       "      <td>Y</td>\n",
       "      <td>Y</td>\n",
       "      <td>N</td>\n",
       "      <td>2</td>\n",
       "      <td>1155</td>\n",
       "      <td>492</td>\n",
       "      <td>494</td>\n",
       "      <td>1</td>\n",
       "      <td>1</td>\n",
       "      <td>0</td>\n",
       "      <td>1</td>\n",
       "      <td>3</td>\n",
       "      <td>0</td>\n",
       "    </tr>\n",
       "    <tr>\n",
       "      <th>1</th>\n",
       "      <td>MALE</td>\n",
       "      <td>WHITE, NOT OF HISPANIC ORIGIN</td>\n",
       "      <td>N</td>\n",
       "      <td>N</td>\n",
       "      <td>Y</td>\n",
       "      <td>N</td>\n",
       "      <td>N</td>\n",
       "      <td>40</td>\n",
       "      <td>885</td>\n",
       "      <td>494</td>\n",
       "      <td>443</td>\n",
       "      <td>0</td>\n",
       "      <td>1</td>\n",
       "      <td>1</td>\n",
       "      <td>1</td>\n",
       "      <td>3</td>\n",
       "      <td>0</td>\n",
       "    </tr>\n",
       "    <tr>\n",
       "      <th>2</th>\n",
       "      <td>FEMALE</td>\n",
       "      <td>WHITE, NOT OF HISPANIC ORIGIN</td>\n",
       "      <td>N</td>\n",
       "      <td>N</td>\n",
       "      <td>Y</td>\n",
       "      <td>N</td>\n",
       "      <td>N</td>\n",
       "      <td>28</td>\n",
       "      <td>1205</td>\n",
       "      <td>486</td>\n",
       "      <td>507</td>\n",
       "      <td>1</td>\n",
       "      <td>1</td>\n",
       "      <td>1</td>\n",
       "      <td>1</td>\n",
       "      <td>4</td>\n",
       "      <td>1</td>\n",
       "    </tr>\n",
       "    <tr>\n",
       "      <th>3</th>\n",
       "      <td>MALE</td>\n",
       "      <td>WHITE, NOT OF HISPANIC ORIGIN</td>\n",
       "      <td>N</td>\n",
       "      <td>Y</td>\n",
       "      <td>N</td>\n",
       "      <td>N</td>\n",
       "      <td>N</td>\n",
       "      <td>1</td>\n",
       "      <td>955</td>\n",
       "      <td>472</td>\n",
       "      <td>455</td>\n",
       "      <td>0</td>\n",
       "      <td>0</td>\n",
       "      <td>0</td>\n",
       "      <td>0</td>\n",
       "      <td>0</td>\n",
       "      <td>0</td>\n",
       "    </tr>\n",
       "    <tr>\n",
       "      <th>4</th>\n",
       "      <td>FEMALE</td>\n",
       "      <td>WHITE, NOT OF HISPANIC ORIGIN</td>\n",
       "      <td>N</td>\n",
       "      <td>N</td>\n",
       "      <td>Y</td>\n",
       "      <td>N</td>\n",
       "      <td>N</td>\n",
       "      <td>10</td>\n",
       "      <td>1305</td>\n",
       "      <td>494</td>\n",
       "      <td>525</td>\n",
       "      <td>1</td>\n",
       "      <td>1</td>\n",
       "      <td>1</td>\n",
       "      <td>0</td>\n",
       "      <td>3</td>\n",
       "      <td>0</td>\n",
       "    </tr>\n",
       "  </tbody>\n",
       "</table>\n",
       "</div>"
      ],
      "text/plain": [
       "   Gender                      Ethnicity ELL SWD ED SST Gifted  Absences  \\\n",
       "0  FEMALE  WHITE, NOT OF HISPANIC ORIGIN   N   N  Y   Y      N         2   \n",
       "1    MALE  WHITE, NOT OF HISPANIC ORIGIN   N   N  Y   N      N        40   \n",
       "2  FEMALE  WHITE, NOT OF HISPANIC ORIGIN   N   N  Y   N      N        28   \n",
       "3    MALE  WHITE, NOT OF HISPANIC ORIGIN   N   Y  N   N      N         1   \n",
       "4  FEMALE  WHITE, NOT OF HISPANIC ORIGIN   N   N  Y   N      N        10   \n",
       "\n",
       "   Lexile  MATH 21 Scale Score  ELA 21 Scale Score  ELA 22 Pass  MATH 22 Pass  \\\n",
       "0    1155                  492                 494            1             1   \n",
       "1     885                  494                 443            0             1   \n",
       "2    1205                  486                 507            1             1   \n",
       "3     955                  472                 455            0             0   \n",
       "4    1305                  494                 525            1             1   \n",
       "\n",
       "   SCIE 22 Pass  SOCI 22 Pass  Subjects Passed  Overall Pass  \n",
       "0             0             1                3             0  \n",
       "1             1             1                3             0  \n",
       "2             1             1                4             1  \n",
       "3             0             0                0             0  \n",
       "4             1             0                3             0  "
      ]
     },
     "execution_count": 4,
     "metadata": {},
     "output_type": "execute_result"
    }
   ],
   "source": [
    "# get a sample of the df\n",
    "ed_df.head()"
   ]
  },
  {
   "cell_type": "code",
   "execution_count": 5,
   "id": "ddf84caa",
   "metadata": {},
   "outputs": [
    {
     "data": {
      "text/html": [
       "<div>\n",
       "<style scoped>\n",
       "    .dataframe tbody tr th:only-of-type {\n",
       "        vertical-align: middle;\n",
       "    }\n",
       "\n",
       "    .dataframe tbody tr th {\n",
       "        vertical-align: top;\n",
       "    }\n",
       "\n",
       "    .dataframe thead th {\n",
       "        text-align: right;\n",
       "    }\n",
       "</style>\n",
       "<table border=\"1\" class=\"dataframe\">\n",
       "  <thead>\n",
       "    <tr style=\"text-align: right;\">\n",
       "      <th></th>\n",
       "      <th>Gender</th>\n",
       "      <th>Ethnicity</th>\n",
       "      <th>ELL</th>\n",
       "      <th>SWD</th>\n",
       "      <th>ED</th>\n",
       "      <th>SST</th>\n",
       "      <th>Gifted</th>\n",
       "      <th>Absences</th>\n",
       "      <th>Lexile</th>\n",
       "      <th>MATH 21 Scale Score</th>\n",
       "      <th>ELA 21 Scale Score</th>\n",
       "      <th>ELA 22 Pass</th>\n",
       "      <th>MATH 22 Pass</th>\n",
       "      <th>SCIE 22 Pass</th>\n",
       "      <th>SOCI 22 Pass</th>\n",
       "      <th>Subjects Passed</th>\n",
       "      <th>Overall Pass</th>\n",
       "      <th>gender_num</th>\n",
       "    </tr>\n",
       "  </thead>\n",
       "  <tbody>\n",
       "    <tr>\n",
       "      <th>0</th>\n",
       "      <td>FEMALE</td>\n",
       "      <td>WHITE, NOT OF HISPANIC ORIGIN</td>\n",
       "      <td>N</td>\n",
       "      <td>N</td>\n",
       "      <td>Y</td>\n",
       "      <td>Y</td>\n",
       "      <td>N</td>\n",
       "      <td>2</td>\n",
       "      <td>1155</td>\n",
       "      <td>492</td>\n",
       "      <td>494</td>\n",
       "      <td>1</td>\n",
       "      <td>1</td>\n",
       "      <td>0</td>\n",
       "      <td>1</td>\n",
       "      <td>3</td>\n",
       "      <td>0</td>\n",
       "      <td>2</td>\n",
       "    </tr>\n",
       "    <tr>\n",
       "      <th>1</th>\n",
       "      <td>MALE</td>\n",
       "      <td>WHITE, NOT OF HISPANIC ORIGIN</td>\n",
       "      <td>N</td>\n",
       "      <td>N</td>\n",
       "      <td>Y</td>\n",
       "      <td>N</td>\n",
       "      <td>N</td>\n",
       "      <td>40</td>\n",
       "      <td>885</td>\n",
       "      <td>494</td>\n",
       "      <td>443</td>\n",
       "      <td>0</td>\n",
       "      <td>1</td>\n",
       "      <td>1</td>\n",
       "      <td>1</td>\n",
       "      <td>3</td>\n",
       "      <td>0</td>\n",
       "      <td>1</td>\n",
       "    </tr>\n",
       "    <tr>\n",
       "      <th>2</th>\n",
       "      <td>FEMALE</td>\n",
       "      <td>WHITE, NOT OF HISPANIC ORIGIN</td>\n",
       "      <td>N</td>\n",
       "      <td>N</td>\n",
       "      <td>Y</td>\n",
       "      <td>N</td>\n",
       "      <td>N</td>\n",
       "      <td>28</td>\n",
       "      <td>1205</td>\n",
       "      <td>486</td>\n",
       "      <td>507</td>\n",
       "      <td>1</td>\n",
       "      <td>1</td>\n",
       "      <td>1</td>\n",
       "      <td>1</td>\n",
       "      <td>4</td>\n",
       "      <td>1</td>\n",
       "      <td>2</td>\n",
       "    </tr>\n",
       "    <tr>\n",
       "      <th>3</th>\n",
       "      <td>MALE</td>\n",
       "      <td>WHITE, NOT OF HISPANIC ORIGIN</td>\n",
       "      <td>N</td>\n",
       "      <td>Y</td>\n",
       "      <td>N</td>\n",
       "      <td>N</td>\n",
       "      <td>N</td>\n",
       "      <td>1</td>\n",
       "      <td>955</td>\n",
       "      <td>472</td>\n",
       "      <td>455</td>\n",
       "      <td>0</td>\n",
       "      <td>0</td>\n",
       "      <td>0</td>\n",
       "      <td>0</td>\n",
       "      <td>0</td>\n",
       "      <td>0</td>\n",
       "      <td>1</td>\n",
       "    </tr>\n",
       "    <tr>\n",
       "      <th>4</th>\n",
       "      <td>FEMALE</td>\n",
       "      <td>WHITE, NOT OF HISPANIC ORIGIN</td>\n",
       "      <td>N</td>\n",
       "      <td>N</td>\n",
       "      <td>Y</td>\n",
       "      <td>N</td>\n",
       "      <td>N</td>\n",
       "      <td>10</td>\n",
       "      <td>1305</td>\n",
       "      <td>494</td>\n",
       "      <td>525</td>\n",
       "      <td>1</td>\n",
       "      <td>1</td>\n",
       "      <td>1</td>\n",
       "      <td>0</td>\n",
       "      <td>3</td>\n",
       "      <td>0</td>\n",
       "      <td>2</td>\n",
       "    </tr>\n",
       "  </tbody>\n",
       "</table>\n",
       "</div>"
      ],
      "text/plain": [
       "   Gender                      Ethnicity ELL SWD ED SST Gifted  Absences  \\\n",
       "0  FEMALE  WHITE, NOT OF HISPANIC ORIGIN   N   N  Y   Y      N         2   \n",
       "1    MALE  WHITE, NOT OF HISPANIC ORIGIN   N   N  Y   N      N        40   \n",
       "2  FEMALE  WHITE, NOT OF HISPANIC ORIGIN   N   N  Y   N      N        28   \n",
       "3    MALE  WHITE, NOT OF HISPANIC ORIGIN   N   Y  N   N      N         1   \n",
       "4  FEMALE  WHITE, NOT OF HISPANIC ORIGIN   N   N  Y   N      N        10   \n",
       "\n",
       "   Lexile  MATH 21 Scale Score  ELA 21 Scale Score  ELA 22 Pass  MATH 22 Pass  \\\n",
       "0    1155                  492                 494            1             1   \n",
       "1     885                  494                 443            0             1   \n",
       "2    1205                  486                 507            1             1   \n",
       "3     955                  472                 455            0             0   \n",
       "4    1305                  494                 525            1             1   \n",
       "\n",
       "   SCIE 22 Pass  SOCI 22 Pass  Subjects Passed  Overall Pass  gender_num  \n",
       "0             0             1                3             0           2  \n",
       "1             1             1                3             0           1  \n",
       "2             1             1                4             1           2  \n",
       "3             0             0                0             0           1  \n",
       "4             1             0                3             0           2  "
      ]
     },
     "execution_count": 5,
     "metadata": {},
     "output_type": "execute_result"
    }
   ],
   "source": [
    "def gender_to_numeric(x):\n",
    "    if x=='FEMALE': return 2\n",
    "    if x=='MALE':   return 1\n",
    "\n",
    "ed_df['gender_num'] = ed_df['Gender'].apply(gender_to_numeric)\n",
    "ed_df.head()"
   ]
  },
  {
   "cell_type": "code",
   "execution_count": 6,
   "id": "05b2b665",
   "metadata": {},
   "outputs": [
    {
     "name": "stdout",
     "output_type": "stream",
     "text": [
      "WHITE, NOT OF HISPANIC ORIGIN       107\n",
      "HISPANIC                              9\n",
      "Two Or More Races                     2\n",
      "AMERICAN INDIAN OR ALASKA NATIVE      1\n",
      "ASIAN                                 1\n",
      "Name: Ethnicity, dtype: int64\n"
     ]
    }
   ],
   "source": [
    "ethnicity_list = ed_df['Ethnicity'].value_counts()\n",
    "print(ethnicity_list)"
   ]
  },
  {
   "cell_type": "code",
   "execution_count": 7,
   "id": "f5155130",
   "metadata": {},
   "outputs": [],
   "source": [
    "def ethnicity_to_numeric(x):\n",
    "    if x=='AMERICAN INDIAN OR ALASKA NATIVE': return 5\n",
    "    if x=='ASIAN': return 4\n",
    "    if x=='Two Or More Races': return 3\n",
    "    if x=='HISPANIC': return 2\n",
    "    if x=='WHITE, NOT OF HISPANIC ORIGIN':   return 1\n",
    "\n",
    "ed_df['ethnicity_num'] = ed_df['Ethnicity'].apply(ethnicity_to_numeric)"
   ]
  },
  {
   "cell_type": "code",
   "execution_count": 8,
   "id": "52ae673e",
   "metadata": {},
   "outputs": [],
   "source": [
    "def SWD_to_numeric(x):\n",
    "    if x=='Y': return 2\n",
    "    if x=='N': return 1\n",
    "\n",
    "ed_df['SWD_num'] = ed_df['SWD'].apply(SWD_to_numeric)"
   ]
  },
  {
   "cell_type": "code",
   "execution_count": 9,
   "id": "c913a06f",
   "metadata": {},
   "outputs": [],
   "source": [
    "def ELL_to_numeric(x):\n",
    "    if x=='Y': return 2\n",
    "    if x=='N':   return 1\n",
    "\n",
    "ed_df['ELL_num'] = ed_df['ELL'].apply(ELL_to_numeric)"
   ]
  },
  {
   "cell_type": "code",
   "execution_count": 10,
   "id": "c54abb65",
   "metadata": {},
   "outputs": [],
   "source": [
    "def ED_to_numeric(x):\n",
    "    if x=='Y': return 2\n",
    "    if x=='N':   return 1\n",
    "\n",
    "ed_df['ED_num'] = ed_df['ED'].apply(ED_to_numeric)"
   ]
  },
  {
   "cell_type": "code",
   "execution_count": 11,
   "id": "c523edd0",
   "metadata": {},
   "outputs": [],
   "source": [
    "def Gifted_to_numeric(x):\n",
    "    if x=='Y': return 2\n",
    "    if x=='N':   return 1\n",
    "\n",
    "ed_df['Gifted_num'] = ed_df['Gifted'].apply(Gifted_to_numeric)"
   ]
  },
  {
   "cell_type": "code",
   "execution_count": 12,
   "id": "bec59ef5",
   "metadata": {},
   "outputs": [],
   "source": [
    "def SST_to_numeric(x):\n",
    "    if x=='Y': return 2\n",
    "    if x=='N':   return 1\n",
    "\n",
    "ed_df['SST_num'] = ed_df['SST'].apply(SST_to_numeric)"
   ]
  },
  {
   "cell_type": "code",
   "execution_count": 13,
   "id": "03dcd8f2",
   "metadata": {},
   "outputs": [],
   "source": [
    "ed_num_df=ed_df.drop(['Gender','Ethnicity','SWD','ELL','ED','Gifted','SST','ELA 22 Pass','MATH 22 Pass','SCIE 22 Pass','SOCI 22 Pass','Subjects Passed'], axis=1)\n"
   ]
  },
  {
   "cell_type": "code",
   "execution_count": 14,
   "id": "8fe9180c",
   "metadata": {},
   "outputs": [],
   "source": [
    "ed_name_df = ed_num_df.rename(columns={\"Lexile\":\"Lexile-Reading Proficiency\",\"gender_num\":\"Gender\",\"ethnicity_num\":\"Ethnicity\",\"SWD_num\":\"Student with Disability\",\n",
    "                          \"ELL_num\":\"English Language Learner\",\"ED_num\":\"Economically Disadvantaged\",\n",
    "                            \"Gifted_num\":\"Gifted\",\"SST_num\":\"Student Support Team\"})"
   ]
  },
  {
   "cell_type": "code",
   "execution_count": 15,
   "id": "a53b4adc",
   "metadata": {},
   "outputs": [
    {
     "data": {
      "text/html": [
       "<div>\n",
       "<style scoped>\n",
       "    .dataframe tbody tr th:only-of-type {\n",
       "        vertical-align: middle;\n",
       "    }\n",
       "\n",
       "    .dataframe tbody tr th {\n",
       "        vertical-align: top;\n",
       "    }\n",
       "\n",
       "    .dataframe thead th {\n",
       "        text-align: right;\n",
       "    }\n",
       "</style>\n",
       "<table border=\"1\" class=\"dataframe\">\n",
       "  <thead>\n",
       "    <tr style=\"text-align: right;\">\n",
       "      <th></th>\n",
       "      <th>Absences</th>\n",
       "      <th>Lexile-Reading Proficiency</th>\n",
       "      <th>MATH 21 Scale Score</th>\n",
       "      <th>ELA 21 Scale Score</th>\n",
       "      <th>Gender</th>\n",
       "      <th>Ethnicity</th>\n",
       "      <th>Student with Disability</th>\n",
       "      <th>English Language Learner</th>\n",
       "      <th>Economically Disadvantaged</th>\n",
       "      <th>Gifted</th>\n",
       "      <th>Student Support Team</th>\n",
       "    </tr>\n",
       "  </thead>\n",
       "  <tbody>\n",
       "    <tr>\n",
       "      <th>0</th>\n",
       "      <td>2</td>\n",
       "      <td>1155</td>\n",
       "      <td>492</td>\n",
       "      <td>494</td>\n",
       "      <td>2</td>\n",
       "      <td>1</td>\n",
       "      <td>1</td>\n",
       "      <td>1</td>\n",
       "      <td>2</td>\n",
       "      <td>1</td>\n",
       "      <td>2</td>\n",
       "    </tr>\n",
       "    <tr>\n",
       "      <th>1</th>\n",
       "      <td>40</td>\n",
       "      <td>885</td>\n",
       "      <td>494</td>\n",
       "      <td>443</td>\n",
       "      <td>1</td>\n",
       "      <td>1</td>\n",
       "      <td>1</td>\n",
       "      <td>1</td>\n",
       "      <td>2</td>\n",
       "      <td>1</td>\n",
       "      <td>1</td>\n",
       "    </tr>\n",
       "    <tr>\n",
       "      <th>2</th>\n",
       "      <td>28</td>\n",
       "      <td>1205</td>\n",
       "      <td>486</td>\n",
       "      <td>507</td>\n",
       "      <td>2</td>\n",
       "      <td>1</td>\n",
       "      <td>1</td>\n",
       "      <td>1</td>\n",
       "      <td>2</td>\n",
       "      <td>1</td>\n",
       "      <td>1</td>\n",
       "    </tr>\n",
       "    <tr>\n",
       "      <th>3</th>\n",
       "      <td>1</td>\n",
       "      <td>955</td>\n",
       "      <td>472</td>\n",
       "      <td>455</td>\n",
       "      <td>1</td>\n",
       "      <td>1</td>\n",
       "      <td>2</td>\n",
       "      <td>1</td>\n",
       "      <td>1</td>\n",
       "      <td>1</td>\n",
       "      <td>1</td>\n",
       "    </tr>\n",
       "    <tr>\n",
       "      <th>4</th>\n",
       "      <td>10</td>\n",
       "      <td>1305</td>\n",
       "      <td>494</td>\n",
       "      <td>525</td>\n",
       "      <td>2</td>\n",
       "      <td>1</td>\n",
       "      <td>1</td>\n",
       "      <td>1</td>\n",
       "      <td>2</td>\n",
       "      <td>1</td>\n",
       "      <td>1</td>\n",
       "    </tr>\n",
       "  </tbody>\n",
       "</table>\n",
       "</div>"
      ],
      "text/plain": [
       "   Absences  Lexile-Reading Proficiency  MATH 21 Scale Score  \\\n",
       "0         2                        1155                  492   \n",
       "1        40                         885                  494   \n",
       "2        28                        1205                  486   \n",
       "3         1                         955                  472   \n",
       "4        10                        1305                  494   \n",
       "\n",
       "   ELA 21 Scale Score  Gender  Ethnicity  Student with Disability  \\\n",
       "0                 494       2          1                        1   \n",
       "1                 443       1          1                        1   \n",
       "2                 507       2          1                        1   \n",
       "3                 455       1          1                        2   \n",
       "4                 525       2          1                        1   \n",
       "\n",
       "   English Language Learner  Economically Disadvantaged  Gifted  \\\n",
       "0                         1                           2       1   \n",
       "1                         1                           2       1   \n",
       "2                         1                           2       1   \n",
       "3                         1                           1       1   \n",
       "4                         1                           2       1   \n",
       "\n",
       "   Student Support Team  \n",
       "0                     2  \n",
       "1                     1  \n",
       "2                     1  \n",
       "3                     1  \n",
       "4                     1  "
      ]
     },
     "execution_count": 15,
     "metadata": {},
     "output_type": "execute_result"
    }
   ],
   "source": [
    "# Define the sets\n",
    "X = ed_name_df.copy()\n",
    "X.drop(\"Overall Pass\", axis=1, inplace=True)\n",
    "X.head()"
   ]
  },
  {
   "cell_type": "code",
   "execution_count": 16,
   "id": "16caef6a",
   "metadata": {},
   "outputs": [],
   "source": [
    "# ethnicity_list = ed_num_df['ethnicity_num'].tolist()\n",
    "# print(ethnicity_list)"
   ]
  },
  {
   "cell_type": "code",
   "execution_count": 17,
   "id": "dcee982a",
   "metadata": {},
   "outputs": [
    {
     "data": {
      "text/plain": [
       "array([0, 0, 1, 0, 0], dtype=int64)"
      ]
     },
     "execution_count": 17,
     "metadata": {},
     "output_type": "execute_result"
    }
   ],
   "source": [
    "y = ed_name_df[\"Overall Pass\"].ravel()\n",
    "y[:5]"
   ]
  },
  {
   "cell_type": "code",
   "execution_count": 18,
   "id": "ad9ea02b",
   "metadata": {},
   "outputs": [],
   "source": [
    "X_train, X_test, y_train, y_test = train_test_split(X, y, random_state=42)"
   ]
  },
  {
   "cell_type": "code",
   "execution_count": 19,
   "id": "647ce863",
   "metadata": {},
   "outputs": [],
   "source": [
    "scaler = StandardScaler()"
   ]
  },
  {
   "cell_type": "code",
   "execution_count": 20,
   "id": "e145e345",
   "metadata": {},
   "outputs": [],
   "source": [
    "X_scaler = scaler.fit(X_train)"
   ]
  },
  {
   "cell_type": "code",
   "execution_count": 21,
   "id": "c0a7a07b",
   "metadata": {},
   "outputs": [],
   "source": [
    "X_train_scaled = X_scaler.transform(X_train)\n",
    "X_test_scaled = X_scaler.transform(X_test)"
   ]
  },
  {
   "cell_type": "code",
   "execution_count": 22,
   "id": "0c20d4e4",
   "metadata": {},
   "outputs": [],
   "source": [
    "rf_model = RandomForestClassifier(n_estimators=500, random_state=42)"
   ]
  },
  {
   "cell_type": "code",
   "execution_count": 23,
   "id": "45b3c826",
   "metadata": {},
   "outputs": [],
   "source": [
    "rf_model = rf_model.fit(X_train_scaled, y_train)"
   ]
  },
  {
   "cell_type": "code",
   "execution_count": 24,
   "id": "07a7d2cd",
   "metadata": {},
   "outputs": [],
   "source": [
    "predictions = rf_model.predict(X_test_scaled)"
   ]
  },
  {
   "cell_type": "code",
   "execution_count": 25,
   "id": "63b0817e",
   "metadata": {},
   "outputs": [],
   "source": [
    "cm = confusion_matrix(y_test, predictions)\n",
    "cm_df = pd.DataFrame(\n",
    "    cm, index=[\"Incomplete\", \"Full Pass\"], columns=[\"Predicted 0\", \"Predicted 1\"]\n",
    ")"
   ]
  },
  {
   "cell_type": "code",
   "execution_count": 26,
   "id": "dd655467",
   "metadata": {},
   "outputs": [],
   "source": [
    "acc_score = accuracy_score(y_test, predictions)"
   ]
  },
  {
   "cell_type": "code",
   "execution_count": 27,
   "id": "5b4d7780",
   "metadata": {},
   "outputs": [
    {
     "name": "stdout",
     "output_type": "stream",
     "text": [
      "Confusion Matrix\n"
     ]
    },
    {
     "data": {
      "text/html": [
       "<div>\n",
       "<style scoped>\n",
       "    .dataframe tbody tr th:only-of-type {\n",
       "        vertical-align: middle;\n",
       "    }\n",
       "\n",
       "    .dataframe tbody tr th {\n",
       "        vertical-align: top;\n",
       "    }\n",
       "\n",
       "    .dataframe thead th {\n",
       "        text-align: right;\n",
       "    }\n",
       "</style>\n",
       "<table border=\"1\" class=\"dataframe\">\n",
       "  <thead>\n",
       "    <tr style=\"text-align: right;\">\n",
       "      <th></th>\n",
       "      <th>Predicted 0</th>\n",
       "      <th>Predicted 1</th>\n",
       "    </tr>\n",
       "  </thead>\n",
       "  <tbody>\n",
       "    <tr>\n",
       "      <th>Incomplete</th>\n",
       "      <td>9</td>\n",
       "      <td>1</td>\n",
       "    </tr>\n",
       "    <tr>\n",
       "      <th>Full Pass</th>\n",
       "      <td>5</td>\n",
       "      <td>15</td>\n",
       "    </tr>\n",
       "  </tbody>\n",
       "</table>\n",
       "</div>"
      ],
      "text/plain": [
       "            Predicted 0  Predicted 1\n",
       "Incomplete            9            1\n",
       "Full Pass             5           15"
      ]
     },
     "metadata": {},
     "output_type": "display_data"
    },
    {
     "name": "stdout",
     "output_type": "stream",
     "text": [
      "Accuracy Score : 0.8\n",
      "Classification Report\n",
      "              precision    recall  f1-score   support\n",
      "\n",
      "           0       0.64      0.90      0.75        10\n",
      "           1       0.94      0.75      0.83        20\n",
      "\n",
      "    accuracy                           0.80        30\n",
      "   macro avg       0.79      0.82      0.79        30\n",
      "weighted avg       0.84      0.80      0.81        30\n",
      "\n"
     ]
    }
   ],
   "source": [
    "# Displaying results\n",
    "print(\"Confusion Matrix\")\n",
    "display(cm_df)\n",
    "print(f\"Accuracy Score : {acc_score}\")\n",
    "print(\"Classification Report\")\n",
    "print(classification_report(y_test, predictions))"
   ]
  },
  {
   "cell_type": "code",
   "execution_count": 28,
   "id": "a7881b94",
   "metadata": {},
   "outputs": [
    {
     "data": {
      "text/plain": [
       "[(0.28439279303463555, 'ELA 21 Scale Score'),\n",
       " (0.2832352153856845, 'Lexile-Reading Proficiency'),\n",
       " (0.21355110444330155, 'MATH 21 Scale Score'),\n",
       " (0.0929991840383519, 'Absences'),\n",
       " (0.04601283956143001, 'Student Support Team'),\n",
       " (0.020139995819267426, 'Gifted'),\n",
       " (0.0179718483527238, 'Gender'),\n",
       " (0.017420833523603994, 'Student with Disability'),\n",
       " (0.015664830117569837, 'Economically Disadvantaged'),\n",
       " (0.004584003071072439, 'Ethnicity'),\n",
       " (0.004027352652359078, 'English Language Learner')]"
      ]
     },
     "execution_count": 28,
     "metadata": {},
     "output_type": "execute_result"
    }
   ],
   "source": [
    "# Random Forests in sklearn will automatically calculate feature importance\n",
    "importances = rf_model.feature_importances_\n",
    "# We can sort the features by their importance\n",
    "sorted(zip(rf_model.feature_importances_, X.columns), reverse=True)"
   ]
  },
  {
   "cell_type": "code",
   "execution_count": 29,
   "id": "3a553c23",
   "metadata": {},
   "outputs": [
    {
     "data": {
      "text/plain": [
       "<AxesSubplot:title={'center':'Student Demographics by Importance'}, ylabel='1'>"
      ]
     },
     "execution_count": 29,
     "metadata": {},
     "output_type": "execute_result"
    },
    {
     "data": {
      "image/png": "[encoded data removed]",
      "text/plain": [
       "<Figure size 640x480 with 1 Axes>"
      ]
     },
     "metadata": {},
     "output_type": "display_data"
    }
   ],
   "source": [
    "# Visualize the features by importance\n",
    "importances_df = pd.DataFrame(sorted(zip(rf_model.feature_importances_, X.columns), reverse=True))\n",
    "importances_df.set_index(importances_df[1], inplace=True)\n",
    "importances_df.drop(columns=1, inplace=True)\n",
    "importances_df.rename(columns={0: 'Feature Importances'}, inplace=True)\n",
    "importances_sorted = importances_df.sort_values(by='Feature Importances')\n",
    "importances_sorted.plot(kind='barh', color='red', title= 'Student Demographics by Importance', legend=False)"
   ]
  },
  {
   "cell_type": "code",
   "execution_count": 30,
   "id": "5334860b",
   "metadata": {},
   "outputs": [
    {
     "data": {
      "text/html": [
       "<div>\n",
       "<style scoped>\n",
       "    .dataframe tbody tr th:only-of-type {\n",
       "        vertical-align: middle;\n",
       "    }\n",
       "\n",
       "    .dataframe tbody tr th {\n",
       "        vertical-align: top;\n",
       "    }\n",
       "\n",
       "    .dataframe thead th {\n",
       "        text-align: right;\n",
       "    }\n",
       "</style>\n",
       "<table border=\"1\" class=\"dataframe\">\n",
       "  <thead>\n",
       "    <tr style=\"text-align: right;\">\n",
       "      <th></th>\n",
       "      <th>gender</th>\n",
       "      <th>race/ethnicity</th>\n",
       "      <th>parental level of education</th>\n",
       "      <th>lunch</th>\n",
       "      <th>test preparation course</th>\n",
       "      <th>math score</th>\n",
       "      <th>reading score</th>\n",
       "      <th>writing score</th>\n",
       "    </tr>\n",
       "  </thead>\n",
       "  <tbody>\n",
       "    <tr>\n",
       "      <th>0</th>\n",
       "      <td>female</td>\n",
       "      <td>group D</td>\n",
       "      <td>some college</td>\n",
       "      <td>standard</td>\n",
       "      <td>completed</td>\n",
       "      <td>59</td>\n",
       "      <td>70</td>\n",
       "      <td>78</td>\n",
       "    </tr>\n",
       "    <tr>\n",
       "      <th>1</th>\n",
       "      <td>male</td>\n",
       "      <td>group D</td>\n",
       "      <td>associate's degree</td>\n",
       "      <td>standard</td>\n",
       "      <td>none</td>\n",
       "      <td>96</td>\n",
       "      <td>93</td>\n",
       "      <td>87</td>\n",
       "    </tr>\n",
       "    <tr>\n",
       "      <th>2</th>\n",
       "      <td>female</td>\n",
       "      <td>group D</td>\n",
       "      <td>some college</td>\n",
       "      <td>free/reduced</td>\n",
       "      <td>none</td>\n",
       "      <td>57</td>\n",
       "      <td>76</td>\n",
       "      <td>77</td>\n",
       "    </tr>\n",
       "    <tr>\n",
       "      <th>3</th>\n",
       "      <td>male</td>\n",
       "      <td>group B</td>\n",
       "      <td>some college</td>\n",
       "      <td>free/reduced</td>\n",
       "      <td>none</td>\n",
       "      <td>70</td>\n",
       "      <td>70</td>\n",
       "      <td>63</td>\n",
       "    </tr>\n",
       "    <tr>\n",
       "      <th>4</th>\n",
       "      <td>female</td>\n",
       "      <td>group D</td>\n",
       "      <td>associate's degree</td>\n",
       "      <td>standard</td>\n",
       "      <td>none</td>\n",
       "      <td>83</td>\n",
       "      <td>85</td>\n",
       "      <td>86</td>\n",
       "    </tr>\n",
       "  </tbody>\n",
       "</table>\n",
       "</div>"
      ],
      "text/plain": [
       "   gender race/ethnicity parental level of education         lunch  \\\n",
       "0  female        group D                some college      standard   \n",
       "1    male        group D          associate's degree      standard   \n",
       "2  female        group D                some college  free/reduced   \n",
       "3    male        group B                some college  free/reduced   \n",
       "4  female        group D          associate's degree      standard   \n",
       "\n",
       "  test preparation course  math score  reading score  writing score  \n",
       "0               completed          59             70             78  \n",
       "1                    none          96             93             87  \n",
       "2                    none          57             76             77  \n",
       "3                    none          70             70             63  \n",
       "4                    none          83             85             86  "
      ]
     },
     "execution_count": 30,
     "metadata": {},
     "output_type": "execute_result"
    }
   ],
   "source": [
    "kag_df = pd.read_csv(\"KaggleData/exams.csv\")\n",
    "kag_df.head()"
   ]
  },
  {
   "cell_type": "code",
   "execution_count": 31,
   "id": "3599509b",
   "metadata": {},
   "outputs": [
    {
     "data": {
      "text/html": [
       "<div>\n",
       "<style scoped>\n",
       "    .dataframe tbody tr th:only-of-type {\n",
       "        vertical-align: middle;\n",
       "    }\n",
       "\n",
       "    .dataframe tbody tr th {\n",
       "        vertical-align: top;\n",
       "    }\n",
       "\n",
       "    .dataframe thead th {\n",
       "        text-align: right;\n",
       "    }\n",
       "</style>\n",
       "<table border=\"1\" class=\"dataframe\">\n",
       "  <thead>\n",
       "    <tr style=\"text-align: right;\">\n",
       "      <th></th>\n",
       "      <th>gender</th>\n",
       "      <th>race/ethnicity</th>\n",
       "      <th>parental level of education</th>\n",
       "      <th>lunch</th>\n",
       "      <th>test preparation course</th>\n",
       "      <th>math score</th>\n",
       "      <th>reading score</th>\n",
       "      <th>writing score</th>\n",
       "      <th>total score</th>\n",
       "      <th>success</th>\n",
       "    </tr>\n",
       "  </thead>\n",
       "  <tbody>\n",
       "    <tr>\n",
       "      <th>0</th>\n",
       "      <td>female</td>\n",
       "      <td>group D</td>\n",
       "      <td>some college</td>\n",
       "      <td>standard</td>\n",
       "      <td>completed</td>\n",
       "      <td>59</td>\n",
       "      <td>70</td>\n",
       "      <td>78</td>\n",
       "      <td>207</td>\n",
       "      <td>0</td>\n",
       "    </tr>\n",
       "    <tr>\n",
       "      <th>1</th>\n",
       "      <td>male</td>\n",
       "      <td>group D</td>\n",
       "      <td>associate's degree</td>\n",
       "      <td>standard</td>\n",
       "      <td>none</td>\n",
       "      <td>96</td>\n",
       "      <td>93</td>\n",
       "      <td>87</td>\n",
       "      <td>276</td>\n",
       "      <td>1</td>\n",
       "    </tr>\n",
       "    <tr>\n",
       "      <th>2</th>\n",
       "      <td>female</td>\n",
       "      <td>group D</td>\n",
       "      <td>some college</td>\n",
       "      <td>free/reduced</td>\n",
       "      <td>none</td>\n",
       "      <td>57</td>\n",
       "      <td>76</td>\n",
       "      <td>77</td>\n",
       "      <td>210</td>\n",
       "      <td>1</td>\n",
       "    </tr>\n",
       "    <tr>\n",
       "      <th>3</th>\n",
       "      <td>male</td>\n",
       "      <td>group B</td>\n",
       "      <td>some college</td>\n",
       "      <td>free/reduced</td>\n",
       "      <td>none</td>\n",
       "      <td>70</td>\n",
       "      <td>70</td>\n",
       "      <td>63</td>\n",
       "      <td>203</td>\n",
       "      <td>0</td>\n",
       "    </tr>\n",
       "    <tr>\n",
       "      <th>4</th>\n",
       "      <td>female</td>\n",
       "      <td>group D</td>\n",
       "      <td>associate's degree</td>\n",
       "      <td>standard</td>\n",
       "      <td>none</td>\n",
       "      <td>83</td>\n",
       "      <td>85</td>\n",
       "      <td>86</td>\n",
       "      <td>254</td>\n",
       "      <td>1</td>\n",
       "    </tr>\n",
       "  </tbody>\n",
       "</table>\n",
       "</div>"
      ],
      "text/plain": [
       "   gender race/ethnicity parental level of education         lunch  \\\n",
       "0  female        group D                some college      standard   \n",
       "1    male        group D          associate's degree      standard   \n",
       "2  female        group D                some college  free/reduced   \n",
       "3    male        group B                some college  free/reduced   \n",
       "4  female        group D          associate's degree      standard   \n",
       "\n",
       "  test preparation course  math score  reading score  writing score  \\\n",
       "0               completed          59             70             78   \n",
       "1                    none          96             93             87   \n",
       "2                    none          57             76             77   \n",
       "3                    none          70             70             63   \n",
       "4                    none          83             85             86   \n",
       "\n",
       "   total score  success  \n",
       "0          207        0  \n",
       "1          276        1  \n",
       "2          210        1  \n",
       "3          203        0  \n",
       "4          254        1  "
      ]
     },
     "execution_count": 31,
     "metadata": {},
     "output_type": "execute_result"
    }
   ],
   "source": [
    "# Add column for average score\n",
    "kag_df['total score'] = kag_df['math score'] + kag_df['reading score'] + kag_df['writing score']\n",
    "kag_df['success'] = kag_df['total score'].apply(lambda x: 0 if x < 210 else 1)\n",
    "kag_df.head()"
   ]
  },
  {
   "cell_type": "code",
   "execution_count": 32,
   "id": "546320b6",
   "metadata": {},
   "outputs": [
    {
     "data": {
      "text/html": [
       "<div>\n",
       "<style scoped>\n",
       "    .dataframe tbody tr th:only-of-type {\n",
       "        vertical-align: middle;\n",
       "    }\n",
       "\n",
       "    .dataframe tbody tr th {\n",
       "        vertical-align: top;\n",
       "    }\n",
       "\n",
       "    .dataframe thead th {\n",
       "        text-align: right;\n",
       "    }\n",
       "</style>\n",
       "<table border=\"1\" class=\"dataframe\">\n",
       "  <thead>\n",
       "    <tr style=\"text-align: right;\">\n",
       "      <th></th>\n",
       "      <th>gender</th>\n",
       "      <th>race/ethnicity</th>\n",
       "      <th>parental level of education</th>\n",
       "      <th>lunch</th>\n",
       "      <th>test preparation course</th>\n",
       "      <th>success</th>\n",
       "    </tr>\n",
       "  </thead>\n",
       "  <tbody>\n",
       "    <tr>\n",
       "      <th>0</th>\n",
       "      <td>female</td>\n",
       "      <td>group D</td>\n",
       "      <td>some college</td>\n",
       "      <td>standard</td>\n",
       "      <td>completed</td>\n",
       "      <td>0</td>\n",
       "    </tr>\n",
       "    <tr>\n",
       "      <th>1</th>\n",
       "      <td>male</td>\n",
       "      <td>group D</td>\n",
       "      <td>associate's degree</td>\n",
       "      <td>standard</td>\n",
       "      <td>none</td>\n",
       "      <td>1</td>\n",
       "    </tr>\n",
       "    <tr>\n",
       "      <th>2</th>\n",
       "      <td>female</td>\n",
       "      <td>group D</td>\n",
       "      <td>some college</td>\n",
       "      <td>free/reduced</td>\n",
       "      <td>none</td>\n",
       "      <td>1</td>\n",
       "    </tr>\n",
       "    <tr>\n",
       "      <th>3</th>\n",
       "      <td>male</td>\n",
       "      <td>group B</td>\n",
       "      <td>some college</td>\n",
       "      <td>free/reduced</td>\n",
       "      <td>none</td>\n",
       "      <td>0</td>\n",
       "    </tr>\n",
       "    <tr>\n",
       "      <th>4</th>\n",
       "      <td>female</td>\n",
       "      <td>group D</td>\n",
       "      <td>associate's degree</td>\n",
       "      <td>standard</td>\n",
       "      <td>none</td>\n",
       "      <td>1</td>\n",
       "    </tr>\n",
       "  </tbody>\n",
       "</table>\n",
       "</div>"
      ],
      "text/plain": [
       "   gender race/ethnicity parental level of education         lunch  \\\n",
       "0  female        group D                some college      standard   \n",
       "1    male        group D          associate's degree      standard   \n",
       "2  female        group D                some college  free/reduced   \n",
       "3    male        group B                some college  free/reduced   \n",
       "4  female        group D          associate's degree      standard   \n",
       "\n",
       "  test preparation course  success  \n",
       "0               completed        0  \n",
       "1                    none        1  \n",
       "2                    none        1  \n",
       "3                    none        0  \n",
       "4                    none        1  "
      ]
     },
     "execution_count": 32,
     "metadata": {},
     "output_type": "execute_result"
    }
   ],
   "source": [
    "kag_clean_df = kag_df.drop(['math score', 'reading score', 'writing score','total score'], axis=1)\n",
    "kag_clean_df.head()"
   ]
  },
  {
   "cell_type": "code",
   "execution_count": 33,
   "id": "76469733",
   "metadata": {},
   "outputs": [
    {
     "name": "stdout",
     "output_type": "stream",
     "text": [
      "none         656\n",
      "completed    344\n",
      "Name: test preparation course, dtype: int64\n"
     ]
    }
   ],
   "source": [
    "race_list = kag_clean_df['test preparation course'].value_counts()\n",
    "print(race_list)"
   ]
  },
  {
   "cell_type": "code",
   "execution_count": 34,
   "id": "8b83d99c",
   "metadata": {},
   "outputs": [],
   "source": [
    "def gender_numeric(x):\n",
    "    if x=='female': return 2\n",
    "    if x=='male':   return 1\n",
    "\n",
    "kag_clean_df['gender_num'] = kag_clean_df['gender'].apply(gender_numeric)"
   ]
  },
  {
   "cell_type": "code",
   "execution_count": 35,
   "id": "070acaaa",
   "metadata": {},
   "outputs": [],
   "source": [
    "def ethnicity_numeric(x):\n",
    "    if x=='group E': return 5\n",
    "    if x=='group D': return 4\n",
    "    if x=='group C': return 3\n",
    "    if x=='group B': return 2\n",
    "    if x=='group A': return 1\n",
    "\n",
    "kag_clean_df['ethnicity_num'] = kag_clean_df['race/ethnicity'].apply(ethnicity_numeric)"
   ]
  },
  {
   "cell_type": "code",
   "execution_count": 36,
   "id": "6e6d66d9",
   "metadata": {},
   "outputs": [],
   "source": [
    "def parent_numeric(x):\n",
    "    if x==\"some college\": return 6\n",
    "    if x==\"high school\": return 5\n",
    "    if x==\"associate's degree\": return 4\n",
    "    if x==\"some high school\": return 3\n",
    "    if x==\"bachelor's degree\": return 2\n",
    "    if x==\"master's degree\":   return 1\n",
    "\n",
    "kag_clean_df['parent_num'] = kag_clean_df['parental level of education'].apply(parent_numeric)"
   ]
  },
  {
   "cell_type": "code",
   "execution_count": 37,
   "id": "e87ddcff",
   "metadata": {},
   "outputs": [],
   "source": [
    "def lunch_numeric(x):\n",
    "    if x=='standard': return 2\n",
    "    if x=='free/reduced': return 1\n",
    "\n",
    "kag_clean_df['lunch_num'] = kag_clean_df['lunch'].apply(lunch_numeric)\n"
   ]
  },
  {
   "cell_type": "code",
   "execution_count": 38,
   "id": "1a0d43e4",
   "metadata": {},
   "outputs": [
    {
     "data": {
      "text/html": [
       "<div>\n",
       "<style scoped>\n",
       "    .dataframe tbody tr th:only-of-type {\n",
       "        vertical-align: middle;\n",
       "    }\n",
       "\n",
       "    .dataframe tbody tr th {\n",
       "        vertical-align: top;\n",
       "    }\n",
       "\n",
       "    .dataframe thead th {\n",
       "        text-align: right;\n",
       "    }\n",
       "</style>\n",
       "<table border=\"1\" class=\"dataframe\">\n",
       "  <thead>\n",
       "    <tr style=\"text-align: right;\">\n",
       "      <th></th>\n",
       "      <th>gender</th>\n",
       "      <th>race/ethnicity</th>\n",
       "      <th>parental level of education</th>\n",
       "      <th>lunch</th>\n",
       "      <th>test preparation course</th>\n",
       "      <th>success</th>\n",
       "      <th>gender_num</th>\n",
       "      <th>ethnicity_num</th>\n",
       "      <th>parent_num</th>\n",
       "      <th>lunch_num</th>\n",
       "      <th>test_num</th>\n",
       "    </tr>\n",
       "  </thead>\n",
       "  <tbody>\n",
       "    <tr>\n",
       "      <th>0</th>\n",
       "      <td>female</td>\n",
       "      <td>group D</td>\n",
       "      <td>some college</td>\n",
       "      <td>standard</td>\n",
       "      <td>completed</td>\n",
       "      <td>0</td>\n",
       "      <td>2</td>\n",
       "      <td>4</td>\n",
       "      <td>6</td>\n",
       "      <td>2</td>\n",
       "      <td>1</td>\n",
       "    </tr>\n",
       "    <tr>\n",
       "      <th>1</th>\n",
       "      <td>male</td>\n",
       "      <td>group D</td>\n",
       "      <td>associate's degree</td>\n",
       "      <td>standard</td>\n",
       "      <td>none</td>\n",
       "      <td>1</td>\n",
       "      <td>1</td>\n",
       "      <td>4</td>\n",
       "      <td>4</td>\n",
       "      <td>2</td>\n",
       "      <td>2</td>\n",
       "    </tr>\n",
       "    <tr>\n",
       "      <th>2</th>\n",
       "      <td>female</td>\n",
       "      <td>group D</td>\n",
       "      <td>some college</td>\n",
       "      <td>free/reduced</td>\n",
       "      <td>none</td>\n",
       "      <td>1</td>\n",
       "      <td>2</td>\n",
       "      <td>4</td>\n",
       "      <td>6</td>\n",
       "      <td>1</td>\n",
       "      <td>2</td>\n",
       "    </tr>\n",
       "    <tr>\n",
       "      <th>3</th>\n",
       "      <td>male</td>\n",
       "      <td>group B</td>\n",
       "      <td>some college</td>\n",
       "      <td>free/reduced</td>\n",
       "      <td>none</td>\n",
       "      <td>0</td>\n",
       "      <td>1</td>\n",
       "      <td>2</td>\n",
       "      <td>6</td>\n",
       "      <td>1</td>\n",
       "      <td>2</td>\n",
       "    </tr>\n",
       "    <tr>\n",
       "      <th>4</th>\n",
       "      <td>female</td>\n",
       "      <td>group D</td>\n",
       "      <td>associate's degree</td>\n",
       "      <td>standard</td>\n",
       "      <td>none</td>\n",
       "      <td>1</td>\n",
       "      <td>2</td>\n",
       "      <td>4</td>\n",
       "      <td>4</td>\n",
       "      <td>2</td>\n",
       "      <td>2</td>\n",
       "    </tr>\n",
       "  </tbody>\n",
       "</table>\n",
       "</div>"
      ],
      "text/plain": [
       "   gender race/ethnicity parental level of education         lunch  \\\n",
       "0  female        group D                some college      standard   \n",
       "1    male        group D          associate's degree      standard   \n",
       "2  female        group D                some college  free/reduced   \n",
       "3    male        group B                some college  free/reduced   \n",
       "4  female        group D          associate's degree      standard   \n",
       "\n",
       "  test preparation course  success  gender_num  ethnicity_num  parent_num  \\\n",
       "0               completed        0           2              4           6   \n",
       "1                    none        1           1              4           4   \n",
       "2                    none        1           2              4           6   \n",
       "3                    none        0           1              2           6   \n",
       "4                    none        1           2              4           4   \n",
       "\n",
       "   lunch_num  test_num  \n",
       "0          2         1  \n",
       "1          2         2  \n",
       "2          1         2  \n",
       "3          1         2  \n",
       "4          2         2  "
      ]
     },
     "execution_count": 38,
     "metadata": {},
     "output_type": "execute_result"
    }
   ],
   "source": [
    "def test_numeric(x):\n",
    "    if x=='none': return 2\n",
    "    if x=='completed':   return 1\n",
    "\n",
    "kag_clean_df['test_num'] = kag_clean_df['test preparation course'].apply(test_numeric)\n",
    "kag_clean_df.head()"
   ]
  },
  {
   "cell_type": "code",
   "execution_count": 39,
   "id": "b5e07252",
   "metadata": {},
   "outputs": [
    {
     "data": {
      "text/html": [
       "<div>\n",
       "<style scoped>\n",
       "    .dataframe tbody tr th:only-of-type {\n",
       "        vertical-align: middle;\n",
       "    }\n",
       "\n",
       "    .dataframe tbody tr th {\n",
       "        vertical-align: top;\n",
       "    }\n",
       "\n",
       "    .dataframe thead th {\n",
       "        text-align: right;\n",
       "    }\n",
       "</style>\n",
       "<table border=\"1\" class=\"dataframe\">\n",
       "  <thead>\n",
       "    <tr style=\"text-align: right;\">\n",
       "      <th></th>\n",
       "      <th>success</th>\n",
       "      <th>gender_num</th>\n",
       "      <th>ethnicity_num</th>\n",
       "      <th>parent_num</th>\n",
       "      <th>lunch_num</th>\n",
       "      <th>test_num</th>\n",
       "    </tr>\n",
       "  </thead>\n",
       "  <tbody>\n",
       "    <tr>\n",
       "      <th>0</th>\n",
       "      <td>0</td>\n",
       "      <td>2</td>\n",
       "      <td>4</td>\n",
       "      <td>6</td>\n",
       "      <td>2</td>\n",
       "      <td>1</td>\n",
       "    </tr>\n",
       "    <tr>\n",
       "      <th>1</th>\n",
       "      <td>1</td>\n",
       "      <td>1</td>\n",
       "      <td>4</td>\n",
       "      <td>4</td>\n",
       "      <td>2</td>\n",
       "      <td>2</td>\n",
       "    </tr>\n",
       "    <tr>\n",
       "      <th>2</th>\n",
       "      <td>1</td>\n",
       "      <td>2</td>\n",
       "      <td>4</td>\n",
       "      <td>6</td>\n",
       "      <td>1</td>\n",
       "      <td>2</td>\n",
       "    </tr>\n",
       "    <tr>\n",
       "      <th>3</th>\n",
       "      <td>0</td>\n",
       "      <td>1</td>\n",
       "      <td>2</td>\n",
       "      <td>6</td>\n",
       "      <td>1</td>\n",
       "      <td>2</td>\n",
       "    </tr>\n",
       "    <tr>\n",
       "      <th>4</th>\n",
       "      <td>1</td>\n",
       "      <td>2</td>\n",
       "      <td>4</td>\n",
       "      <td>4</td>\n",
       "      <td>2</td>\n",
       "      <td>2</td>\n",
       "    </tr>\n",
       "  </tbody>\n",
       "</table>\n",
       "</div>"
      ],
      "text/plain": [
       "   success  gender_num  ethnicity_num  parent_num  lunch_num  test_num\n",
       "0        0           2              4           6          2         1\n",
       "1        1           1              4           4          2         2\n",
       "2        1           2              4           6          1         2\n",
       "3        0           1              2           6          1         2\n",
       "4        1           2              4           4          2         2"
      ]
     },
     "execution_count": 39,
     "metadata": {},
     "output_type": "execute_result"
    }
   ],
   "source": [
    "kag_end_df = kag_clean_df.drop(['gender', 'race/ethnicity', 'parental level of education','lunch','test preparation course'], axis=1)\n",
    "kag_end_df.head()"
   ]
  },
  {
   "cell_type": "code",
   "execution_count": 40,
   "id": "65c3f822",
   "metadata": {},
   "outputs": [],
   "source": [
    "kag_name_df = kag_end_df.rename(columns={\"gender_num\":\"Gender\",\"ethnicity_num\":\"Ethnicity\",\"parent_num\":\"Parental Level of Education\",\n",
    "                          \"lunch_num\":\"Financial Assited Lunch Program\",\"test_num\":\"Test Preparation Course Participation\",})"
   ]
  },
  {
   "cell_type": "code",
   "execution_count": 41,
   "id": "24e1df3a",
   "metadata": {},
   "outputs": [
    {
     "data": {
      "text/html": [
       "<div>\n",
       "<style scoped>\n",
       "    .dataframe tbody tr th:only-of-type {\n",
       "        vertical-align: middle;\n",
       "    }\n",
       "\n",
       "    .dataframe tbody tr th {\n",
       "        vertical-align: top;\n",
       "    }\n",
       "\n",
       "    .dataframe thead th {\n",
       "        text-align: right;\n",
       "    }\n",
       "</style>\n",
       "<table border=\"1\" class=\"dataframe\">\n",
       "  <thead>\n",
       "    <tr style=\"text-align: right;\">\n",
       "      <th></th>\n",
       "      <th>Gender</th>\n",
       "      <th>Ethnicity</th>\n",
       "      <th>Parental Level of Education</th>\n",
       "      <th>Financial Assited Lunch Program</th>\n",
       "      <th>Test Preparation Course Participation</th>\n",
       "    </tr>\n",
       "  </thead>\n",
       "  <tbody>\n",
       "    <tr>\n",
       "      <th>0</th>\n",
       "      <td>2</td>\n",
       "      <td>4</td>\n",
       "      <td>6</td>\n",
       "      <td>2</td>\n",
       "      <td>1</td>\n",
       "    </tr>\n",
       "    <tr>\n",
       "      <th>1</th>\n",
       "      <td>1</td>\n",
       "      <td>4</td>\n",
       "      <td>4</td>\n",
       "      <td>2</td>\n",
       "      <td>2</td>\n",
       "    </tr>\n",
       "    <tr>\n",
       "      <th>2</th>\n",
       "      <td>2</td>\n",
       "      <td>4</td>\n",
       "      <td>6</td>\n",
       "      <td>1</td>\n",
       "      <td>2</td>\n",
       "    </tr>\n",
       "    <tr>\n",
       "      <th>3</th>\n",
       "      <td>1</td>\n",
       "      <td>2</td>\n",
       "      <td>6</td>\n",
       "      <td>1</td>\n",
       "      <td>2</td>\n",
       "    </tr>\n",
       "    <tr>\n",
       "      <th>4</th>\n",
       "      <td>2</td>\n",
       "      <td>4</td>\n",
       "      <td>4</td>\n",
       "      <td>2</td>\n",
       "      <td>2</td>\n",
       "    </tr>\n",
       "  </tbody>\n",
       "</table>\n",
       "</div>"
      ],
      "text/plain": [
       "   Gender  Ethnicity  Parental Level of Education  \\\n",
       "0       2          4                            6   \n",
       "1       1          4                            4   \n",
       "2       2          4                            6   \n",
       "3       1          2                            6   \n",
       "4       2          4                            4   \n",
       "\n",
       "   Financial Assited Lunch Program  Test Preparation Course Participation  \n",
       "0                                2                                      1  \n",
       "1                                2                                      2  \n",
       "2                                1                                      2  \n",
       "3                                1                                      2  \n",
       "4                                2                                      2  "
      ]
     },
     "execution_count": 41,
     "metadata": {},
     "output_type": "execute_result"
    }
   ],
   "source": [
    "# Define the sets\n",
    "X = kag_name_df.copy()\n",
    "X.drop(\"success\", axis=1, inplace=True)\n",
    "X.head()"
   ]
  },
  {
   "cell_type": "code",
   "execution_count": 42,
   "id": "d8b1cb9c",
   "metadata": {},
   "outputs": [
    {
     "data": {
      "text/plain": [
       "array([0, 1, 1, 0, 1], dtype=int64)"
      ]
     },
     "execution_count": 42,
     "metadata": {},
     "output_type": "execute_result"
    }
   ],
   "source": [
    "y = kag_name_df[\"success\"].ravel()\n",
    "y[:5]"
   ]
  },
  {
   "cell_type": "code",
   "execution_count": 43,
   "id": "c0e5102b",
   "metadata": {},
   "outputs": [],
   "source": [
    "X_train, X_test, y_train, y_test = train_test_split(X, y, random_state=42)"
   ]
  },
  {
   "cell_type": "code",
   "execution_count": 44,
   "id": "9e1fdb39",
   "metadata": {},
   "outputs": [],
   "source": [
    "scaler = StandardScaler()"
   ]
  },
  {
   "cell_type": "code",
   "execution_count": 45,
   "id": "c67a4168",
   "metadata": {},
   "outputs": [],
   "source": [
    "X_scaler = scaler.fit(X_train)"
   ]
  },
  {
   "cell_type": "code",
   "execution_count": 46,
   "id": "c76204a0",
   "metadata": {},
   "outputs": [],
   "source": [
    "X_train_scaled = X_scaler.transform(X_train)\n",
    "X_test_scaled = X_scaler.transform(X_test)"
   ]
  },
  {
   "cell_type": "code",
   "execution_count": 47,
   "id": "dc069cb3",
   "metadata": {},
   "outputs": [],
   "source": [
    "rf_model = RandomForestClassifier(n_estimators=500, random_state=42)"
   ]
  },
  {
   "cell_type": "code",
   "execution_count": 48,
   "id": "cdd67fa6",
   "metadata": {},
   "outputs": [],
   "source": [
    "rf_model = rf_model.fit(X_train_scaled, y_train)"
   ]
  },
  {
   "cell_type": "code",
   "execution_count": 49,
   "id": "f072f894",
   "metadata": {},
   "outputs": [],
   "source": [
    "predictions = rf_model.predict(X_test_scaled)"
   ]
  },
  {
   "cell_type": "code",
   "execution_count": 50,
   "id": "929654d1",
   "metadata": {},
   "outputs": [],
   "source": [
    "cm = confusion_matrix(y_test, predictions)\n",
    "cm_df = pd.DataFrame(\n",
    "    cm, index=[\"Incomplete\", \"Full Pass\"], columns=[\"Predicted 0\", \"Predicted 1\"]\n",
    ")"
   ]
  },
  {
   "cell_type": "code",
   "execution_count": 51,
   "id": "8a36dad1",
   "metadata": {},
   "outputs": [],
   "source": [
    "acc_score = accuracy_score(y_test, predictions)"
   ]
  },
  {
   "cell_type": "code",
   "execution_count": 52,
   "id": "a9e68038",
   "metadata": {},
   "outputs": [
    {
     "name": "stdout",
     "output_type": "stream",
     "text": [
      "Confusion Matrix\n"
     ]
    },
    {
     "data": {
      "text/html": [
       "<div>\n",
       "<style scoped>\n",
       "    .dataframe tbody tr th:only-of-type {\n",
       "        vertical-align: middle;\n",
       "    }\n",
       "\n",
       "    .dataframe tbody tr th {\n",
       "        vertical-align: top;\n",
       "    }\n",
       "\n",
       "    .dataframe thead th {\n",
       "        text-align: right;\n",
       "    }\n",
       "</style>\n",
       "<table border=\"1\" class=\"dataframe\">\n",
       "  <thead>\n",
       "    <tr style=\"text-align: right;\">\n",
       "      <th></th>\n",
       "      <th>Predicted 0</th>\n",
       "      <th>Predicted 1</th>\n",
       "    </tr>\n",
       "  </thead>\n",
       "  <tbody>\n",
       "    <tr>\n",
       "      <th>Incomplete</th>\n",
       "      <td>71</td>\n",
       "      <td>47</td>\n",
       "    </tr>\n",
       "    <tr>\n",
       "      <th>Full Pass</th>\n",
       "      <td>49</td>\n",
       "      <td>83</td>\n",
       "    </tr>\n",
       "  </tbody>\n",
       "</table>\n",
       "</div>"
      ],
      "text/plain": [
       "            Predicted 0  Predicted 1\n",
       "Incomplete           71           47\n",
       "Full Pass            49           83"
      ]
     },
     "metadata": {},
     "output_type": "display_data"
    },
    {
     "name": "stdout",
     "output_type": "stream",
     "text": [
      "Accuracy Score : 0.616\n",
      "Classification Report\n",
      "              precision    recall  f1-score   support\n",
      "\n",
      "           0       0.59      0.60      0.60       118\n",
      "           1       0.64      0.63      0.63       132\n",
      "\n",
      "    accuracy                           0.62       250\n",
      "   macro avg       0.62      0.62      0.62       250\n",
      "weighted avg       0.62      0.62      0.62       250\n",
      "\n"
     ]
    }
   ],
   "source": [
    "# Displaying results\n",
    "print(\"Confusion Matrix\")\n",
    "display(cm_df)\n",
    "print(f\"Accuracy Score : {acc_score}\")\n",
    "print(\"Classification Report\")\n",
    "print(classification_report(y_test, predictions))"
   ]
  },
  {
   "cell_type": "code",
   "execution_count": 53,
   "id": "d67f477c",
   "metadata": {},
   "outputs": [
    {
     "data": {
      "text/plain": [
       "[(0.35536318744046225, 'Parental Level of Education'),\n",
       " (0.30563227281227723, 'Ethnicity'),\n",
       " (0.15711290418465906, 'Financial Assited Lunch Program'),\n",
       " (0.10105537238261289, 'Test Preparation Course Participation'),\n",
       " (0.08083626317998863, 'Gender')]"
      ]
     },
     "execution_count": 53,
     "metadata": {},
     "output_type": "execute_result"
    }
   ],
   "source": [
    "# Random Forests in sklearn will automatically calculate feature importance\n",
    "importances = rf_model.feature_importances_\n",
    "# We can sort the features by their importance\n",
    "sorted(zip(rf_model.feature_importances_, X.columns), reverse=True)"
   ]
  },
  {
   "cell_type": "code",
   "execution_count": 54,
   "id": "14fd2f61",
   "metadata": {},
   "outputs": [
    {
     "data": {
      "text/plain": [
       "<AxesSubplot:title={'center':'Student Demographics by Importance'}, ylabel='1'>"
      ]
     },
     "execution_count": 54,
     "metadata": {},
     "output_type": "execute_result"
    },
    {
     "data": {
      "image/png": "[encoded data removed]",
      "text/plain": [
       "<Figure size 640x480 with 1 Axes>"
      ]
     },
     "metadata": {},
     "output_type": "display_data"
    }
   ],
   "source": [
    "# Visualize the features by importance\n",
    "importances_df = pd.DataFrame(sorted(zip(rf_model.feature_importances_, X.columns), reverse=True))\n",
    "importances_df.set_index(importances_df[1], inplace=True)\n",
    "importances_df.drop(columns=1, inplace=True)\n",
    "importances_df.rename(columns={0: 'Feature Importances'}, inplace=True)\n",
    "importances_sorted = importances_df.sort_values(by='Feature Importances')\n",
    "importances_sorted.plot(kind='barh', color='red', title= 'Student Demographics by Importance', legend=False)"
   ]
  },
  {
   "cell_type": "code",
   "execution_count": 55,
   "id": "bd3ee43c",
   "metadata": {},
   "outputs": [
    {
     "data": {
      "text/html": [
       "<div>\n",
       "<style scoped>\n",
       "    .dataframe tbody tr th:only-of-type {\n",
       "        vertical-align: middle;\n",
       "    }\n",
       "\n",
       "    .dataframe tbody tr th {\n",
       "        vertical-align: top;\n",
       "    }\n",
       "\n",
       "    .dataframe thead th {\n",
       "        text-align: right;\n",
       "    }\n",
       "</style>\n",
       "<table border=\"1\" class=\"dataframe\">\n",
       "  <thead>\n",
       "    <tr style=\"text-align: right;\">\n",
       "      <th></th>\n",
       "      <th>Unnamed: 0</th>\n",
       "      <th>Grade</th>\n",
       "      <th>English Grade</th>\n",
       "      <th>Math Grade</th>\n",
       "      <th>Science Grade</th>\n",
       "      <th>Humanities Grade</th>\n",
       "      <th>Computer Science Grade</th>\n",
       "      <th>Computer Science A</th>\n",
       "    </tr>\n",
       "  </thead>\n",
       "  <tbody>\n",
       "    <tr>\n",
       "      <th>0</th>\n",
       "      <td>2</td>\n",
       "      <td>12</td>\n",
       "      <td>92.47</td>\n",
       "      <td>90.86</td>\n",
       "      <td>92.95</td>\n",
       "      <td>93.96</td>\n",
       "      <td>97.00</td>\n",
       "      <td>1</td>\n",
       "    </tr>\n",
       "    <tr>\n",
       "      <th>1</th>\n",
       "      <td>8</td>\n",
       "      <td>9</td>\n",
       "      <td>96.56</td>\n",
       "      <td>90.75</td>\n",
       "      <td>87.52</td>\n",
       "      <td>94.93</td>\n",
       "      <td>91.78</td>\n",
       "      <td>1</td>\n",
       "    </tr>\n",
       "    <tr>\n",
       "      <th>2</th>\n",
       "      <td>9</td>\n",
       "      <td>11</td>\n",
       "      <td>92.98</td>\n",
       "      <td>96.70</td>\n",
       "      <td>93.15</td>\n",
       "      <td>95.58</td>\n",
       "      <td>94.90</td>\n",
       "      <td>1</td>\n",
       "    </tr>\n",
       "    <tr>\n",
       "      <th>3</th>\n",
       "      <td>10</td>\n",
       "      <td>11</td>\n",
       "      <td>92.98</td>\n",
       "      <td>96.70</td>\n",
       "      <td>93.15</td>\n",
       "      <td>96.00</td>\n",
       "      <td>94.90</td>\n",
       "      <td>1</td>\n",
       "    </tr>\n",
       "    <tr>\n",
       "      <th>4</th>\n",
       "      <td>11</td>\n",
       "      <td>10</td>\n",
       "      <td>85.08</td>\n",
       "      <td>81.70</td>\n",
       "      <td>86.12</td>\n",
       "      <td>89.27</td>\n",
       "      <td>81.97</td>\n",
       "      <td>0</td>\n",
       "    </tr>\n",
       "  </tbody>\n",
       "</table>\n",
       "</div>"
      ],
      "text/plain": [
       "   Unnamed: 0  Grade  English Grade  Math Grade  Science Grade  \\\n",
       "0           2     12          92.47       90.86          92.95   \n",
       "1           8      9          96.56       90.75          87.52   \n",
       "2           9     11          92.98       96.70          93.15   \n",
       "3          10     11          92.98       96.70          93.15   \n",
       "4          11     10          85.08       81.70          86.12   \n",
       "\n",
       "   Humanities Grade  Computer Science Grade  Computer Science A  \n",
       "0             93.96                   97.00                   1  \n",
       "1             94.93                   91.78                   1  \n",
       "2             95.58                   94.90                   1  \n",
       "3             96.00                   94.90                   1  \n",
       "4             89.27                   81.97                   0  "
      ]
     },
     "execution_count": 55,
     "metadata": {},
     "output_type": "execute_result"
    }
   ],
   "source": [
    "# Import the csv\n",
    "fl_df = pd.read_csv(\"FloridaData/combined_fl_data.csv\")\n",
    "fl_df.head()"
   ]
  },
  {
   "cell_type": "code",
   "execution_count": 56,
   "id": "797c015e",
   "metadata": {},
   "outputs": [
    {
     "data": {
      "text/html": [
       "<div>\n",
       "<style scoped>\n",
       "    .dataframe tbody tr th:only-of-type {\n",
       "        vertical-align: middle;\n",
       "    }\n",
       "\n",
       "    .dataframe tbody tr th {\n",
       "        vertical-align: top;\n",
       "    }\n",
       "\n",
       "    .dataframe thead th {\n",
       "        text-align: right;\n",
       "    }\n",
       "</style>\n",
       "<table border=\"1\" class=\"dataframe\">\n",
       "  <thead>\n",
       "    <tr style=\"text-align: right;\">\n",
       "      <th></th>\n",
       "      <th>Grade</th>\n",
       "      <th>English Grade</th>\n",
       "      <th>Math Grade</th>\n",
       "      <th>Science Grade</th>\n",
       "      <th>Humanities Grade</th>\n",
       "      <th>Computer Science A</th>\n",
       "    </tr>\n",
       "  </thead>\n",
       "  <tbody>\n",
       "    <tr>\n",
       "      <th>0</th>\n",
       "      <td>12</td>\n",
       "      <td>92.47</td>\n",
       "      <td>90.86</td>\n",
       "      <td>92.95</td>\n",
       "      <td>93.96</td>\n",
       "      <td>1</td>\n",
       "    </tr>\n",
       "    <tr>\n",
       "      <th>1</th>\n",
       "      <td>9</td>\n",
       "      <td>96.56</td>\n",
       "      <td>90.75</td>\n",
       "      <td>87.52</td>\n",
       "      <td>94.93</td>\n",
       "      <td>1</td>\n",
       "    </tr>\n",
       "    <tr>\n",
       "      <th>2</th>\n",
       "      <td>11</td>\n",
       "      <td>92.98</td>\n",
       "      <td>96.70</td>\n",
       "      <td>93.15</td>\n",
       "      <td>95.58</td>\n",
       "      <td>1</td>\n",
       "    </tr>\n",
       "    <tr>\n",
       "      <th>3</th>\n",
       "      <td>11</td>\n",
       "      <td>92.98</td>\n",
       "      <td>96.70</td>\n",
       "      <td>93.15</td>\n",
       "      <td>96.00</td>\n",
       "      <td>1</td>\n",
       "    </tr>\n",
       "    <tr>\n",
       "      <th>4</th>\n",
       "      <td>10</td>\n",
       "      <td>85.08</td>\n",
       "      <td>81.70</td>\n",
       "      <td>86.12</td>\n",
       "      <td>89.27</td>\n",
       "      <td>0</td>\n",
       "    </tr>\n",
       "  </tbody>\n",
       "</table>\n",
       "</div>"
      ],
      "text/plain": [
       "   Grade  English Grade  Math Grade  Science Grade  Humanities Grade  \\\n",
       "0     12          92.47       90.86          92.95             93.96   \n",
       "1      9          96.56       90.75          87.52             94.93   \n",
       "2     11          92.98       96.70          93.15             95.58   \n",
       "3     11          92.98       96.70          93.15             96.00   \n",
       "4     10          85.08       81.70          86.12             89.27   \n",
       "\n",
       "   Computer Science A  \n",
       "0                   1  \n",
       "1                   1  \n",
       "2                   1  \n",
       "3                   1  \n",
       "4                   0  "
      ]
     },
     "execution_count": 56,
     "metadata": {},
     "output_type": "execute_result"
    }
   ],
   "source": [
    "fl_compA_df = fl_df.drop([\"Computer Science Grade\",\"Unnamed: 0\"], axis=1)\n",
    "fl_compA_df.head()\n"
   ]
  },
  {
   "cell_type": "code",
   "execution_count": 57,
   "id": "9d57d046",
   "metadata": {},
   "outputs": [],
   "source": [
    "fl_compA_df2 = fl_compA_df.rename(columns={\"Grade\":\"Grade level\"})"
   ]
  },
  {
   "cell_type": "code",
   "execution_count": 58,
   "id": "631f8e71",
   "metadata": {},
   "outputs": [
    {
     "data": {
      "text/html": [
       "<div>\n",
       "<style scoped>\n",
       "    .dataframe tbody tr th:only-of-type {\n",
       "        vertical-align: middle;\n",
       "    }\n",
       "\n",
       "    .dataframe tbody tr th {\n",
       "        vertical-align: top;\n",
       "    }\n",
       "\n",
       "    .dataframe thead th {\n",
       "        text-align: right;\n",
       "    }\n",
       "</style>\n",
       "<table border=\"1\" class=\"dataframe\">\n",
       "  <thead>\n",
       "    <tr style=\"text-align: right;\">\n",
       "      <th></th>\n",
       "      <th>Grade level</th>\n",
       "      <th>English Grade</th>\n",
       "      <th>Math Grade</th>\n",
       "      <th>Science Grade</th>\n",
       "      <th>Humanities Grade</th>\n",
       "    </tr>\n",
       "  </thead>\n",
       "  <tbody>\n",
       "    <tr>\n",
       "      <th>0</th>\n",
       "      <td>12</td>\n",
       "      <td>92.47</td>\n",
       "      <td>90.86</td>\n",
       "      <td>92.95</td>\n",
       "      <td>93.96</td>\n",
       "    </tr>\n",
       "    <tr>\n",
       "      <th>1</th>\n",
       "      <td>9</td>\n",
       "      <td>96.56</td>\n",
       "      <td>90.75</td>\n",
       "      <td>87.52</td>\n",
       "      <td>94.93</td>\n",
       "    </tr>\n",
       "    <tr>\n",
       "      <th>2</th>\n",
       "      <td>11</td>\n",
       "      <td>92.98</td>\n",
       "      <td>96.70</td>\n",
       "      <td>93.15</td>\n",
       "      <td>95.58</td>\n",
       "    </tr>\n",
       "    <tr>\n",
       "      <th>3</th>\n",
       "      <td>11</td>\n",
       "      <td>92.98</td>\n",
       "      <td>96.70</td>\n",
       "      <td>93.15</td>\n",
       "      <td>96.00</td>\n",
       "    </tr>\n",
       "    <tr>\n",
       "      <th>4</th>\n",
       "      <td>10</td>\n",
       "      <td>85.08</td>\n",
       "      <td>81.70</td>\n",
       "      <td>86.12</td>\n",
       "      <td>89.27</td>\n",
       "    </tr>\n",
       "  </tbody>\n",
       "</table>\n",
       "</div>"
      ],
      "text/plain": [
       "   Grade level  English Grade  Math Grade  Science Grade  Humanities Grade\n",
       "0           12          92.47       90.86          92.95             93.96\n",
       "1            9          96.56       90.75          87.52             94.93\n",
       "2           11          92.98       96.70          93.15             95.58\n",
       "3           11          92.98       96.70          93.15             96.00\n",
       "4           10          85.08       81.70          86.12             89.27"
      ]
     },
     "execution_count": 58,
     "metadata": {},
     "output_type": "execute_result"
    }
   ],
   "source": [
    "# Define the sets\n",
    "X = fl_compA_df2.copy()\n",
    "X.drop(\"Computer Science A\", axis=1, inplace=True)\n",
    "X.head()"
   ]
  },
  {
   "cell_type": "code",
   "execution_count": 59,
   "id": "3d23dd2c",
   "metadata": {},
   "outputs": [
    {
     "data": {
      "text/plain": [
       "array([1, 1, 1, 1, 0], dtype=int64)"
      ]
     },
     "execution_count": 59,
     "metadata": {},
     "output_type": "execute_result"
    }
   ],
   "source": [
    "y = fl_compA_df2[\"Computer Science A\"].ravel()\n",
    "y[:5]"
   ]
  },
  {
   "cell_type": "code",
   "execution_count": 60,
   "id": "466d0f00",
   "metadata": {},
   "outputs": [],
   "source": [
    "X_train, X_test, y_train, y_test = train_test_split(X, y, random_state=42)"
   ]
  },
  {
   "cell_type": "code",
   "execution_count": 61,
   "id": "9b44b4b0",
   "metadata": {},
   "outputs": [],
   "source": [
    "scaler = StandardScaler()"
   ]
  },
  {
   "cell_type": "code",
   "execution_count": 62,
   "id": "b25554ae",
   "metadata": {},
   "outputs": [],
   "source": [
    "X_scaler = scaler.fit(X_train)"
   ]
  },
  {
   "cell_type": "code",
   "execution_count": 63,
   "id": "708d9690",
   "metadata": {},
   "outputs": [],
   "source": [
    "X_train_scaled = X_scaler.transform(X_train)\n",
    "X_test_scaled = X_scaler.transform(X_test)"
   ]
  },
  {
   "cell_type": "code",
   "execution_count": 64,
   "id": "3c4daf12",
   "metadata": {},
   "outputs": [],
   "source": [
    "rf_model = RandomForestClassifier(n_estimators=500, random_state=42)"
   ]
  },
  {
   "cell_type": "code",
   "execution_count": 65,
   "id": "b9aefac9",
   "metadata": {},
   "outputs": [],
   "source": [
    "rf_model = rf_model.fit(X_train_scaled, y_train)"
   ]
  },
  {
   "cell_type": "code",
   "execution_count": 66,
   "id": "7c3f6325",
   "metadata": {},
   "outputs": [],
   "source": [
    "predictions = rf_model.predict(X_test_scaled)"
   ]
  },
  {
   "cell_type": "code",
   "execution_count": 67,
   "id": "0527f8b1",
   "metadata": {},
   "outputs": [],
   "source": [
    "cm = confusion_matrix(y_test, predictions)\n",
    "cm_df = pd.DataFrame(\n",
    "    cm, index=[\"Comp Sci Negative\", \"Comp Sci A\"], columns=[\"Predicted 0\", \"Predicted 1\"]\n",
    ")"
   ]
  },
  {
   "cell_type": "code",
   "execution_count": 68,
   "id": "d78467bc",
   "metadata": {},
   "outputs": [],
   "source": [
    "acc_score = accuracy_score(y_test, predictions)"
   ]
  },
  {
   "cell_type": "code",
   "execution_count": 69,
   "id": "a2909996",
   "metadata": {},
   "outputs": [
    {
     "name": "stdout",
     "output_type": "stream",
     "text": [
      "Confusion Matrix\n"
     ]
    },
    {
     "data": {
      "text/html": [
       "<div>\n",
       "<style scoped>\n",
       "    .dataframe tbody tr th:only-of-type {\n",
       "        vertical-align: middle;\n",
       "    }\n",
       "\n",
       "    .dataframe tbody tr th {\n",
       "        vertical-align: top;\n",
       "    }\n",
       "\n",
       "    .dataframe thead th {\n",
       "        text-align: right;\n",
       "    }\n",
       "</style>\n",
       "<table border=\"1\" class=\"dataframe\">\n",
       "  <thead>\n",
       "    <tr style=\"text-align: right;\">\n",
       "      <th></th>\n",
       "      <th>Predicted 0</th>\n",
       "      <th>Predicted 1</th>\n",
       "    </tr>\n",
       "  </thead>\n",
       "  <tbody>\n",
       "    <tr>\n",
       "      <th>Comp Sci Negative</th>\n",
       "      <td>5</td>\n",
       "      <td>9</td>\n",
       "    </tr>\n",
       "    <tr>\n",
       "      <th>Comp Sci A</th>\n",
       "      <td>5</td>\n",
       "      <td>51</td>\n",
       "    </tr>\n",
       "  </tbody>\n",
       "</table>\n",
       "</div>"
      ],
      "text/plain": [
       "                   Predicted 0  Predicted 1\n",
       "Comp Sci Negative            5            9\n",
       "Comp Sci A                   5           51"
      ]
     },
     "metadata": {},
     "output_type": "display_data"
    },
    {
     "name": "stdout",
     "output_type": "stream",
     "text": [
      "Accuracy Score : 0.8\n",
      "Classification Report\n",
      "              precision    recall  f1-score   support\n",
      "\n",
      "           0       0.50      0.36      0.42        14\n",
      "           1       0.85      0.91      0.88        56\n",
      "\n",
      "    accuracy                           0.80        70\n",
      "   macro avg       0.68      0.63      0.65        70\n",
      "weighted avg       0.78      0.80      0.79        70\n",
      "\n"
     ]
    }
   ],
   "source": [
    "# Displaying results\n",
    "print(\"Confusion Matrix\")\n",
    "display(cm_df)\n",
    "print(f\"Accuracy Score : {acc_score}\")\n",
    "print(\"Classification Report\")\n",
    "print(classification_report(y_test, predictions))"
   ]
  },
  {
   "cell_type": "code",
   "execution_count": 70,
   "id": "26bf630b",
   "metadata": {},
   "outputs": [
    {
     "data": {
      "text/plain": [
       "[(0.29277766568967545, 'Humanities Grade'),\n",
       " (0.2618198794377096, 'English Grade'),\n",
       " (0.19398997058668802, 'Science Grade'),\n",
       " (0.18922523576857248, 'Math Grade'),\n",
       " (0.06218724851735433, 'Grade level')]"
      ]
     },
     "execution_count": 70,
     "metadata": {},
     "output_type": "execute_result"
    }
   ],
   "source": [
    "importances = rf_model.feature_importances_\n",
    "# We can sort the features by their importance\n",
    "sorted(zip(rf_model.feature_importances_, X.columns), reverse=True)"
   ]
  },
  {
   "cell_type": "code",
   "execution_count": 71,
   "id": "a64e6eaa",
   "metadata": {},
   "outputs": [
    {
     "data": {
      "text/plain": [
       "<AxesSubplot:title={'center':'Student Demographics by Importance'}, ylabel='1'>"
      ]
     },
     "execution_count": 71,
     "metadata": {},
     "output_type": "execute_result"
    },
    {
     "data": {
      "image/png": "[encoded data removed]",
      "text/plain": [
       "<Figure size 640x480 with 1 Axes>"
      ]
     },
     "metadata": {},
     "output_type": "display_data"
    }
   ],
   "source": [
    "# Visualize the features by importance\n",
    "importances_df = pd.DataFrame(sorted(zip(rf_model.feature_importances_, X.columns), reverse=True))\n",
    "importances_df.set_index(importances_df[1], inplace=True)\n",
    "importances_df.drop(columns=1, inplace=True)\n",
    "importances_df.rename(columns={0: 'Feature Importances'}, inplace=True)\n",
    "importances_sorted = importances_df.sort_values(by='Feature Importances')\n",
    "importances_sorted.plot(kind='barh', color='red', title= 'Student Demographics by Importance', legend=False)"
   ]
  },
  {
   "cell_type": "code",
   "execution_count": null,
   "id": "3502dc0d",
   "metadata": {},
   "outputs": [],
   "source": []
  }
 ],
 "metadata": {
  "kernelspec": {
   "display_name": "Python 3 (ipykernel)",
   "language": "python",
   "name": "python3"
  },
  "language_info": {
   "codemirror_mode": {
    "name": "ipython",
    "version": 3
   },
   "file_extension": ".py",
   "mimetype": "text/x-python",
   "name": "python",
   "nbconvert_exporter": "python",
   "pygments_lexer": "ipython3",
   "version": "3.9.13"
  }
 },
 "nbformat": 4,
 "nbformat_minor": 5
}
